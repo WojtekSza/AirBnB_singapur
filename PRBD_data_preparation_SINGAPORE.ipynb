{
  "nbformat": 4,
  "nbformat_minor": 0,
  "metadata": {
    "colab": {
      "name": "PRBD_data_preparation_SINGAPORE.ipynb",
      "provenance": [],
      "collapsed_sections": [],
      "authorship_tag": "ABX9TyMPuzuQihsCWZzskwhXTQUf",
      "include_colab_link": true
    },
    "kernelspec": {
      "name": "python3",
      "display_name": "Python 3"
    },
    "language_info": {
      "name": "python"
    }
  },
  "cells": [
    {
      "cell_type": "markdown",
      "metadata": {
        "id": "view-in-github",
        "colab_type": "text"
      },
      "source": [
        "<a href=\"https://colab.research.google.com/github/WojtekSza/AirBnB_singapur/blob/main/PRBD_data_preparation_SINGAPORE.ipynb\" target=\"_parent\"><img src=\"https://colab.research.google.com/assets/colab-badge.svg\" alt=\"Open In Colab\"/></a>"
      ]
    },
    {
      "cell_type": "markdown",
      "source": [
        "PROJEKT ZALICZENIOWY\n",
        "MIASTO SINGAPUR\n",
        "WOJCIECH SZANIAWSKI"
      ],
      "metadata": {
        "id": "K8j3jS_V4J2g"
      }
    },
    {
      "cell_type": "code",
      "execution_count": 216,
      "metadata": {
        "id": "QCwUWh2QjfvE"
      },
      "outputs": [],
      "source": [
        "import numpy as np\n",
        "import pandas as pd\n",
        "import re"
      ]
    },
    {
      "cell_type": "markdown",
      "source": [
        "---\n",
        "# Zadanie 1."
      ],
      "metadata": {
        "id": "g4l_wIAb47KI"
      }
    },
    {
      "cell_type": "markdown",
      "source": [
        "Pobieranie danych ze źródła:"
      ],
      "metadata": {
        "id": "-pkZ9dHoU8J1"
      }
    },
    {
      "cell_type": "code",
      "source": [
        "url='http://data.insideairbnb.com/singapore/sg/singapore/2021-10-28/data/listings.csv.gz'"
      ],
      "metadata": {
        "id": "OzxzMOyBkRJd"
      },
      "execution_count": 217,
      "outputs": []
    },
    {
      "cell_type": "code",
      "source": [
        "data=pd.read_csv(url)"
      ],
      "metadata": {
        "id": "DqwGTCsckrZl"
      },
      "execution_count": 218,
      "outputs": []
    },
    {
      "cell_type": "code",
      "source": [
        "data_clean=data.copy()"
      ],
      "metadata": {
        "id": "cqICbTDJlgp0"
      },
      "execution_count": 219,
      "outputs": []
    },
    {
      "cell_type": "markdown",
      "source": [
        "---\n",
        "# Zadanie 2."
      ],
      "metadata": {
        "id": "CtA71lqR5GWA"
      }
    },
    {
      "cell_type": "markdown",
      "source": [
        "Poznanie danych (liczba i typ zmiennych ,rozmiar, czasochłonność)"
      ],
      "metadata": {
        "id": "WAOVWBSxVBBj"
      }
    },
    {
      "cell_type": "code",
      "source": [
        "data_clean.info()"
      ],
      "metadata": {
        "colab": {
          "base_uri": "https://localhost:8080/"
        },
        "id": "01c-qtSm5OC8",
        "outputId": "93d48e8d-2d55-4ef6-dd61-4325b52e05b5"
      },
      "execution_count": 220,
      "outputs": [
        {
          "output_type": "stream",
          "name": "stdout",
          "text": [
            "<class 'pandas.core.frame.DataFrame'>\n",
            "RangeIndex: 4123 entries, 0 to 4122\n",
            "Data columns (total 74 columns):\n",
            " #   Column                                        Non-Null Count  Dtype  \n",
            "---  ------                                        --------------  -----  \n",
            " 0   id                                            4123 non-null   int64  \n",
            " 1   listing_url                                   4123 non-null   object \n",
            " 2   scrape_id                                     4123 non-null   int64  \n",
            " 3   last_scraped                                  4123 non-null   object \n",
            " 4   name                                          4123 non-null   object \n",
            " 5   description                                   3990 non-null   object \n",
            " 6   neighborhood_overview                         2655 non-null   object \n",
            " 7   picture_url                                   4123 non-null   object \n",
            " 8   host_id                                       4123 non-null   int64  \n",
            " 9   host_url                                      4123 non-null   object \n",
            " 10  host_name                                     4115 non-null   object \n",
            " 11  host_since                                    4115 non-null   object \n",
            " 12  host_location                                 4115 non-null   object \n",
            " 13  host_about                                    2771 non-null   object \n",
            " 14  host_response_time                            3141 non-null   object \n",
            " 15  host_response_rate                            3141 non-null   object \n",
            " 16  host_acceptance_rate                          2839 non-null   object \n",
            " 17  host_is_superhost                             4115 non-null   object \n",
            " 18  host_thumbnail_url                            4115 non-null   object \n",
            " 19  host_picture_url                              4115 non-null   object \n",
            " 20  host_neighbourhood                            3772 non-null   object \n",
            " 21  host_listings_count                           4115 non-null   float64\n",
            " 22  host_total_listings_count                     4115 non-null   float64\n",
            " 23  host_verifications                            4123 non-null   object \n",
            " 24  host_has_profile_pic                          4115 non-null   object \n",
            " 25  host_identity_verified                        4115 non-null   object \n",
            " 26  neighbourhood                                 2655 non-null   object \n",
            " 27  neighbourhood_cleansed                        4123 non-null   object \n",
            " 28  neighbourhood_group_cleansed                  4123 non-null   object \n",
            " 29  latitude                                      4123 non-null   float64\n",
            " 30  longitude                                     4123 non-null   float64\n",
            " 31  property_type                                 4123 non-null   object \n",
            " 32  room_type                                     4123 non-null   object \n",
            " 33  accommodates                                  4123 non-null   int64  \n",
            " 34  bathrooms                                     0 non-null      float64\n",
            " 35  bathrooms_text                                4094 non-null   object \n",
            " 36  bedrooms                                      3664 non-null   float64\n",
            " 37  beds                                          3859 non-null   float64\n",
            " 38  amenities                                     4123 non-null   object \n",
            " 39  price                                         4123 non-null   object \n",
            " 40  minimum_nights                                4123 non-null   int64  \n",
            " 41  maximum_nights                                4123 non-null   int64  \n",
            " 42  minimum_minimum_nights                        4122 non-null   float64\n",
            " 43  maximum_minimum_nights                        4122 non-null   float64\n",
            " 44  minimum_maximum_nights                        4122 non-null   float64\n",
            " 45  maximum_maximum_nights                        4122 non-null   float64\n",
            " 46  minimum_nights_avg_ntm                        4122 non-null   float64\n",
            " 47  maximum_nights_avg_ntm                        4122 non-null   float64\n",
            " 48  calendar_updated                              0 non-null      float64\n",
            " 49  has_availability                              4123 non-null   object \n",
            " 50  availability_30                               4123 non-null   int64  \n",
            " 51  availability_60                               4123 non-null   int64  \n",
            " 52  availability_90                               4123 non-null   int64  \n",
            " 53  availability_365                              4123 non-null   int64  \n",
            " 54  calendar_last_scraped                         4123 non-null   object \n",
            " 55  number_of_reviews                             4123 non-null   int64  \n",
            " 56  number_of_reviews_ltm                         4123 non-null   int64  \n",
            " 57  number_of_reviews_l30d                        4123 non-null   int64  \n",
            " 58  first_review                                  2308 non-null   object \n",
            " 59  last_review                                   2308 non-null   object \n",
            " 60  review_scores_rating                          2308 non-null   float64\n",
            " 61  review_scores_accuracy                        2253 non-null   float64\n",
            " 62  review_scores_cleanliness                     2254 non-null   float64\n",
            " 63  review_scores_checkin                         2253 non-null   float64\n",
            " 64  review_scores_communication                   2254 non-null   float64\n",
            " 65  review_scores_location                        2253 non-null   float64\n",
            " 66  review_scores_value                           2253 non-null   float64\n",
            " 67  license                                       9 non-null      object \n",
            " 68  instant_bookable                              4123 non-null   object \n",
            " 69  calculated_host_listings_count                4123 non-null   int64  \n",
            " 70  calculated_host_listings_count_entire_homes   4123 non-null   int64  \n",
            " 71  calculated_host_listings_count_private_rooms  4123 non-null   int64  \n",
            " 72  calculated_host_listings_count_shared_rooms   4123 non-null   int64  \n",
            " 73  reviews_per_month                             2308 non-null   float64\n",
            "dtypes: float64(22), int64(17), object(35)\n",
            "memory usage: 2.3+ MB\n"
          ]
        }
      ]
    },
    {
      "cell_type": "code",
      "source": [
        "len(data_clean)"
      ],
      "metadata": {
        "colab": {
          "base_uri": "https://localhost:8080/"
        },
        "id": "W7VRRE49_tR_",
        "outputId": "8950be33-a3d0-4125-c1ef-56e20ca8b630"
      },
      "execution_count": 221,
      "outputs": [
        {
          "output_type": "execute_result",
          "data": {
            "text/plain": [
              "4123"
            ]
          },
          "metadata": {},
          "execution_count": 221
        }
      ]
    },
    {
      "cell_type": "markdown",
      "source": [
        "Ilość wierszy 4123, rozmiar ~ 2.3 MB\n",
        "Tak wiec baza danych nie jest duża więc czas procesowania danych będzie szybki"
      ],
      "metadata": {
        "id": "nBCXjdmpcpI6"
      }
    },
    {
      "cell_type": "markdown",
      "source": [
        "---\n",
        "# Zadanie 3."
      ],
      "metadata": {
        "id": "MxfYLsk75nVP"
      }
    },
    {
      "cell_type": "markdown",
      "source": [
        "Wyświetlanie próbki surowych danych:"
      ],
      "metadata": {
        "id": "PrWmnSQkdLmC"
      }
    },
    {
      "cell_type": "code",
      "source": [
        "data_clean.head(5)"
      ],
      "metadata": {
        "colab": {
          "base_uri": "https://localhost:8080/",
          "height": 652
        },
        "id": "0gwSx7t157bY",
        "outputId": "a14740e0-36a2-4c1a-8690-766f382d943b"
      },
      "execution_count": 222,
      "outputs": [
        {
          "output_type": "execute_result",
          "data": {
            "text/html": [
              "\n",
              "  <div id=\"df-28119461-8899-4f4b-9e9e-d71acc12e1d3\">\n",
              "    <div class=\"colab-df-container\">\n",
              "      <div>\n",
              "<style scoped>\n",
              "    .dataframe tbody tr th:only-of-type {\n",
              "        vertical-align: middle;\n",
              "    }\n",
              "\n",
              "    .dataframe tbody tr th {\n",
              "        vertical-align: top;\n",
              "    }\n",
              "\n",
              "    .dataframe thead th {\n",
              "        text-align: right;\n",
              "    }\n",
              "</style>\n",
              "<table border=\"1\" class=\"dataframe\">\n",
              "  <thead>\n",
              "    <tr style=\"text-align: right;\">\n",
              "      <th></th>\n",
              "      <th>id</th>\n",
              "      <th>listing_url</th>\n",
              "      <th>scrape_id</th>\n",
              "      <th>last_scraped</th>\n",
              "      <th>name</th>\n",
              "      <th>description</th>\n",
              "      <th>neighborhood_overview</th>\n",
              "      <th>picture_url</th>\n",
              "      <th>host_id</th>\n",
              "      <th>host_url</th>\n",
              "      <th>host_name</th>\n",
              "      <th>host_since</th>\n",
              "      <th>host_location</th>\n",
              "      <th>host_about</th>\n",
              "      <th>host_response_time</th>\n",
              "      <th>host_response_rate</th>\n",
              "      <th>host_acceptance_rate</th>\n",
              "      <th>host_is_superhost</th>\n",
              "      <th>host_thumbnail_url</th>\n",
              "      <th>host_picture_url</th>\n",
              "      <th>host_neighbourhood</th>\n",
              "      <th>host_listings_count</th>\n",
              "      <th>host_total_listings_count</th>\n",
              "      <th>host_verifications</th>\n",
              "      <th>host_has_profile_pic</th>\n",
              "      <th>host_identity_verified</th>\n",
              "      <th>neighbourhood</th>\n",
              "      <th>neighbourhood_cleansed</th>\n",
              "      <th>neighbourhood_group_cleansed</th>\n",
              "      <th>latitude</th>\n",
              "      <th>longitude</th>\n",
              "      <th>property_type</th>\n",
              "      <th>room_type</th>\n",
              "      <th>accommodates</th>\n",
              "      <th>bathrooms</th>\n",
              "      <th>bathrooms_text</th>\n",
              "      <th>bedrooms</th>\n",
              "      <th>beds</th>\n",
              "      <th>amenities</th>\n",
              "      <th>price</th>\n",
              "      <th>minimum_nights</th>\n",
              "      <th>maximum_nights</th>\n",
              "      <th>minimum_minimum_nights</th>\n",
              "      <th>maximum_minimum_nights</th>\n",
              "      <th>minimum_maximum_nights</th>\n",
              "      <th>maximum_maximum_nights</th>\n",
              "      <th>minimum_nights_avg_ntm</th>\n",
              "      <th>maximum_nights_avg_ntm</th>\n",
              "      <th>calendar_updated</th>\n",
              "      <th>has_availability</th>\n",
              "      <th>availability_30</th>\n",
              "      <th>availability_60</th>\n",
              "      <th>availability_90</th>\n",
              "      <th>availability_365</th>\n",
              "      <th>calendar_last_scraped</th>\n",
              "      <th>number_of_reviews</th>\n",
              "      <th>number_of_reviews_ltm</th>\n",
              "      <th>number_of_reviews_l30d</th>\n",
              "      <th>first_review</th>\n",
              "      <th>last_review</th>\n",
              "      <th>review_scores_rating</th>\n",
              "      <th>review_scores_accuracy</th>\n",
              "      <th>review_scores_cleanliness</th>\n",
              "      <th>review_scores_checkin</th>\n",
              "      <th>review_scores_communication</th>\n",
              "      <th>review_scores_location</th>\n",
              "      <th>review_scores_value</th>\n",
              "      <th>license</th>\n",
              "      <th>instant_bookable</th>\n",
              "      <th>calculated_host_listings_count</th>\n",
              "      <th>calculated_host_listings_count_entire_homes</th>\n",
              "      <th>calculated_host_listings_count_private_rooms</th>\n",
              "      <th>calculated_host_listings_count_shared_rooms</th>\n",
              "      <th>reviews_per_month</th>\n",
              "    </tr>\n",
              "  </thead>\n",
              "  <tbody>\n",
              "    <tr>\n",
              "      <th>0</th>\n",
              "      <td>50646</td>\n",
              "      <td>https://www.airbnb.com/rooms/50646</td>\n",
              "      <td>20211028055647</td>\n",
              "      <td>2021-10-28</td>\n",
              "      <td>Pleasant Room along Bukit Timah</td>\n",
              "      <td>Fully furnished bedroom with a nice view on th...</td>\n",
              "      <td>The serenity &amp; quiet surrounding makes it an i...</td>\n",
              "      <td>https://a0.muscache.com/pictures/36342984/670d...</td>\n",
              "      <td>227796</td>\n",
              "      <td>https://www.airbnb.com/users/show/227796</td>\n",
              "      <td>Sujatha</td>\n",
              "      <td>2010-09-08</td>\n",
              "      <td>Singapore, Singapore</td>\n",
              "      <td>I am a working professional, living in Singapo...</td>\n",
              "      <td>NaN</td>\n",
              "      <td>NaN</td>\n",
              "      <td>NaN</td>\n",
              "      <td>f</td>\n",
              "      <td>https://a0.muscache.com/im/pictures/user/8fd2c...</td>\n",
              "      <td>https://a0.muscache.com/im/pictures/user/8fd2c...</td>\n",
              "      <td>Bukit Timah</td>\n",
              "      <td>1.0</td>\n",
              "      <td>1.0</td>\n",
              "      <td>['email', 'phone', 'facebook', 'reviews', 'off...</td>\n",
              "      <td>t</td>\n",
              "      <td>t</td>\n",
              "      <td>Singapore, Singapore</td>\n",
              "      <td>Bukit Timah</td>\n",
              "      <td>Central Region</td>\n",
              "      <td>1.33432</td>\n",
              "      <td>103.78521</td>\n",
              "      <td>Private room in rental unit</td>\n",
              "      <td>Private room</td>\n",
              "      <td>2</td>\n",
              "      <td>NaN</td>\n",
              "      <td>1 bath</td>\n",
              "      <td>1.0</td>\n",
              "      <td>1.0</td>\n",
              "      <td>[\"Elevator\", \"Long term stays allowed\", \"Cable...</td>\n",
              "      <td>$80.00</td>\n",
              "      <td>90</td>\n",
              "      <td>730</td>\n",
              "      <td>90.0</td>\n",
              "      <td>90.0</td>\n",
              "      <td>730.0</td>\n",
              "      <td>730.0</td>\n",
              "      <td>90.0</td>\n",
              "      <td>730.0</td>\n",
              "      <td>NaN</td>\n",
              "      <td>t</td>\n",
              "      <td>30</td>\n",
              "      <td>60</td>\n",
              "      <td>90</td>\n",
              "      <td>365</td>\n",
              "      <td>2021-10-28</td>\n",
              "      <td>18</td>\n",
              "      <td>0</td>\n",
              "      <td>0</td>\n",
              "      <td>2014-10-14</td>\n",
              "      <td>2014-07-08</td>\n",
              "      <td>4.56</td>\n",
              "      <td>4.72</td>\n",
              "      <td>4.78</td>\n",
              "      <td>4.78</td>\n",
              "      <td>4.94</td>\n",
              "      <td>4.72</td>\n",
              "      <td>4.50</td>\n",
              "      <td>NaN</td>\n",
              "      <td>f</td>\n",
              "      <td>1</td>\n",
              "      <td>0</td>\n",
              "      <td>1</td>\n",
              "      <td>0</td>\n",
              "      <td>0.21</td>\n",
              "    </tr>\n",
              "    <tr>\n",
              "      <th>1</th>\n",
              "      <td>71609</td>\n",
              "      <td>https://www.airbnb.com/rooms/71609</td>\n",
              "      <td>20211028055647</td>\n",
              "      <td>2021-10-28</td>\n",
              "      <td>Ensuite Room (Room 1 &amp; 2) near EXPO</td>\n",
              "      <td>For 3 rooms.Book room 1&amp;2 and room 4&lt;br /&gt;&lt;br ...</td>\n",
              "      <td>NaN</td>\n",
              "      <td>https://a0.muscache.com/pictures/24453191/3580...</td>\n",
              "      <td>367042</td>\n",
              "      <td>https://www.airbnb.com/users/show/367042</td>\n",
              "      <td>Belinda</td>\n",
              "      <td>2011-01-29</td>\n",
              "      <td>Singapore</td>\n",
              "      <td>Hi My name is Belinda -Housekeeper \\r\\n\\r\\nI w...</td>\n",
              "      <td>NaN</td>\n",
              "      <td>NaN</td>\n",
              "      <td>NaN</td>\n",
              "      <td>f</td>\n",
              "      <td>https://a0.muscache.com/im/users/367042/profil...</td>\n",
              "      <td>https://a0.muscache.com/im/users/367042/profil...</td>\n",
              "      <td>Tampines</td>\n",
              "      <td>8.0</td>\n",
              "      <td>8.0</td>\n",
              "      <td>['email', 'phone', 'reviews', 'manual_offline'...</td>\n",
              "      <td>t</td>\n",
              "      <td>t</td>\n",
              "      <td>NaN</td>\n",
              "      <td>Tampines</td>\n",
              "      <td>East Region</td>\n",
              "      <td>1.34537</td>\n",
              "      <td>103.95887</td>\n",
              "      <td>Private room in villa</td>\n",
              "      <td>Private room</td>\n",
              "      <td>6</td>\n",
              "      <td>NaN</td>\n",
              "      <td>1 private bath</td>\n",
              "      <td>2.0</td>\n",
              "      <td>3.0</td>\n",
              "      <td>[\"TV\", \"Hot tub\", \"Washer\", \"Shampoo\", \"Dedica...</td>\n",
              "      <td>$177.00</td>\n",
              "      <td>90</td>\n",
              "      <td>1125</td>\n",
              "      <td>90.0</td>\n",
              "      <td>90.0</td>\n",
              "      <td>1125.0</td>\n",
              "      <td>1125.0</td>\n",
              "      <td>90.0</td>\n",
              "      <td>1125.0</td>\n",
              "      <td>NaN</td>\n",
              "      <td>t</td>\n",
              "      <td>30</td>\n",
              "      <td>60</td>\n",
              "      <td>90</td>\n",
              "      <td>365</td>\n",
              "      <td>2021-10-28</td>\n",
              "      <td>20</td>\n",
              "      <td>0</td>\n",
              "      <td>0</td>\n",
              "      <td>2015-10-05</td>\n",
              "      <td>2019-12-28</td>\n",
              "      <td>4.44</td>\n",
              "      <td>4.37</td>\n",
              "      <td>4.00</td>\n",
              "      <td>4.63</td>\n",
              "      <td>4.78</td>\n",
              "      <td>4.26</td>\n",
              "      <td>4.32</td>\n",
              "      <td>NaN</td>\n",
              "      <td>t</td>\n",
              "      <td>4</td>\n",
              "      <td>0</td>\n",
              "      <td>4</td>\n",
              "      <td>0</td>\n",
              "      <td>0.27</td>\n",
              "    </tr>\n",
              "    <tr>\n",
              "      <th>2</th>\n",
              "      <td>71896</td>\n",
              "      <td>https://www.airbnb.com/rooms/71896</td>\n",
              "      <td>20211028055647</td>\n",
              "      <td>2021-10-28</td>\n",
              "      <td>B&amp;B  Room 1 near Airport &amp; EXPO</td>\n",
              "      <td>&lt;b&gt;The space&lt;/b&gt;&lt;br /&gt;Vocational Stay Deluxe B...</td>\n",
              "      <td>NaN</td>\n",
              "      <td>https://a0.muscache.com/pictures/2440674/ac4f4...</td>\n",
              "      <td>367042</td>\n",
              "      <td>https://www.airbnb.com/users/show/367042</td>\n",
              "      <td>Belinda</td>\n",
              "      <td>2011-01-29</td>\n",
              "      <td>Singapore</td>\n",
              "      <td>Hi My name is Belinda -Housekeeper \\r\\n\\r\\nI w...</td>\n",
              "      <td>NaN</td>\n",
              "      <td>NaN</td>\n",
              "      <td>NaN</td>\n",
              "      <td>f</td>\n",
              "      <td>https://a0.muscache.com/im/users/367042/profil...</td>\n",
              "      <td>https://a0.muscache.com/im/users/367042/profil...</td>\n",
              "      <td>Tampines</td>\n",
              "      <td>8.0</td>\n",
              "      <td>8.0</td>\n",
              "      <td>['email', 'phone', 'reviews', 'manual_offline'...</td>\n",
              "      <td>t</td>\n",
              "      <td>t</td>\n",
              "      <td>NaN</td>\n",
              "      <td>Tampines</td>\n",
              "      <td>East Region</td>\n",
              "      <td>1.34754</td>\n",
              "      <td>103.95958</td>\n",
              "      <td>Private room in residential home</td>\n",
              "      <td>Private room</td>\n",
              "      <td>3</td>\n",
              "      <td>NaN</td>\n",
              "      <td>Shared half-bath</td>\n",
              "      <td>1.0</td>\n",
              "      <td>1.0</td>\n",
              "      <td>[\"TV\", \"Hot tub\", \"Washer\", \"Shampoo\", \"Coffee...</td>\n",
              "      <td>$81.00</td>\n",
              "      <td>90</td>\n",
              "      <td>1125</td>\n",
              "      <td>90.0</td>\n",
              "      <td>90.0</td>\n",
              "      <td>1125.0</td>\n",
              "      <td>1125.0</td>\n",
              "      <td>90.0</td>\n",
              "      <td>1125.0</td>\n",
              "      <td>NaN</td>\n",
              "      <td>t</td>\n",
              "      <td>30</td>\n",
              "      <td>60</td>\n",
              "      <td>90</td>\n",
              "      <td>365</td>\n",
              "      <td>2021-10-28</td>\n",
              "      <td>24</td>\n",
              "      <td>0</td>\n",
              "      <td>0</td>\n",
              "      <td>2015-08-14</td>\n",
              "      <td>2014-12-10</td>\n",
              "      <td>4.16</td>\n",
              "      <td>4.22</td>\n",
              "      <td>4.09</td>\n",
              "      <td>4.43</td>\n",
              "      <td>4.43</td>\n",
              "      <td>4.17</td>\n",
              "      <td>4.04</td>\n",
              "      <td>NaN</td>\n",
              "      <td>t</td>\n",
              "      <td>4</td>\n",
              "      <td>0</td>\n",
              "      <td>4</td>\n",
              "      <td>0</td>\n",
              "      <td>0.32</td>\n",
              "    </tr>\n",
              "    <tr>\n",
              "      <th>3</th>\n",
              "      <td>71903</td>\n",
              "      <td>https://www.airbnb.com/rooms/71903</td>\n",
              "      <td>20211028055647</td>\n",
              "      <td>2021-10-28</td>\n",
              "      <td>Room 2-near Airport &amp; EXPO</td>\n",
              "      <td>Like your own home, 24hrs access.&lt;br /&gt;&lt;br /&gt;&lt;...</td>\n",
              "      <td>Quiet and view of the playground with exercise...</td>\n",
              "      <td>https://a0.muscache.com/pictures/568743/7bc623...</td>\n",
              "      <td>367042</td>\n",
              "      <td>https://www.airbnb.com/users/show/367042</td>\n",
              "      <td>Belinda</td>\n",
              "      <td>2011-01-29</td>\n",
              "      <td>Singapore</td>\n",
              "      <td>Hi My name is Belinda -Housekeeper \\r\\n\\r\\nI w...</td>\n",
              "      <td>NaN</td>\n",
              "      <td>NaN</td>\n",
              "      <td>NaN</td>\n",
              "      <td>f</td>\n",
              "      <td>https://a0.muscache.com/im/users/367042/profil...</td>\n",
              "      <td>https://a0.muscache.com/im/users/367042/profil...</td>\n",
              "      <td>Tampines</td>\n",
              "      <td>8.0</td>\n",
              "      <td>8.0</td>\n",
              "      <td>['email', 'phone', 'reviews', 'manual_offline'...</td>\n",
              "      <td>t</td>\n",
              "      <td>t</td>\n",
              "      <td>Singapore, Singapore</td>\n",
              "      <td>Tampines</td>\n",
              "      <td>East Region</td>\n",
              "      <td>1.34531</td>\n",
              "      <td>103.96100</td>\n",
              "      <td>Private room in residential home</td>\n",
              "      <td>Private room</td>\n",
              "      <td>3</td>\n",
              "      <td>NaN</td>\n",
              "      <td>Shared half-bath</td>\n",
              "      <td>1.0</td>\n",
              "      <td>2.0</td>\n",
              "      <td>[\"Free street parking\", \"Wifi\", \"Long term sta...</td>\n",
              "      <td>$81.00</td>\n",
              "      <td>90</td>\n",
              "      <td>1125</td>\n",
              "      <td>90.0</td>\n",
              "      <td>90.0</td>\n",
              "      <td>1125.0</td>\n",
              "      <td>1125.0</td>\n",
              "      <td>90.0</td>\n",
              "      <td>1125.0</td>\n",
              "      <td>NaN</td>\n",
              "      <td>t</td>\n",
              "      <td>30</td>\n",
              "      <td>60</td>\n",
              "      <td>90</td>\n",
              "      <td>365</td>\n",
              "      <td>2021-10-28</td>\n",
              "      <td>48</td>\n",
              "      <td>0</td>\n",
              "      <td>0</td>\n",
              "      <td>2015-08-16</td>\n",
              "      <td>2019-10-21</td>\n",
              "      <td>4.42</td>\n",
              "      <td>4.40</td>\n",
              "      <td>4.53</td>\n",
              "      <td>4.64</td>\n",
              "      <td>4.64</td>\n",
              "      <td>4.51</td>\n",
              "      <td>4.38</td>\n",
              "      <td>NaN</td>\n",
              "      <td>f</td>\n",
              "      <td>4</td>\n",
              "      <td>0</td>\n",
              "      <td>4</td>\n",
              "      <td>0</td>\n",
              "      <td>0.64</td>\n",
              "    </tr>\n",
              "    <tr>\n",
              "      <th>4</th>\n",
              "      <td>275343</td>\n",
              "      <td>https://www.airbnb.com/rooms/275343</td>\n",
              "      <td>20211028055647</td>\n",
              "      <td>2021-10-28</td>\n",
              "      <td>Conveniently located City Room!(1,2,3,4,5,6,7,8)</td>\n",
              "      <td>Awesome location and host &lt;br /&gt;Room near INSE...</td>\n",
              "      <td>NaN</td>\n",
              "      <td>https://a0.muscache.com/pictures/11979330/9bbd...</td>\n",
              "      <td>1439258</td>\n",
              "      <td>https://www.airbnb.com/users/show/1439258</td>\n",
              "      <td>Joyce</td>\n",
              "      <td>2011-11-24</td>\n",
              "      <td>Singapore, Singapore</td>\n",
              "      <td>K2 Guesthouse is designed for guests who want ...</td>\n",
              "      <td>within an hour</td>\n",
              "      <td>95%</td>\n",
              "      <td>94%</td>\n",
              "      <td>f</td>\n",
              "      <td>https://a0.muscache.com/im/pictures/user/dad35...</td>\n",
              "      <td>https://a0.muscache.com/im/pictures/user/dad35...</td>\n",
              "      <td>Bukit Merah</td>\n",
              "      <td>50.0</td>\n",
              "      <td>50.0</td>\n",
              "      <td>['email', 'phone', 'reviews', 'jumio', 'offlin...</td>\n",
              "      <td>t</td>\n",
              "      <td>t</td>\n",
              "      <td>NaN</td>\n",
              "      <td>Bukit Merah</td>\n",
              "      <td>Central Region</td>\n",
              "      <td>1.29015</td>\n",
              "      <td>103.80814</td>\n",
              "      <td>Private room in rental unit</td>\n",
              "      <td>Private room</td>\n",
              "      <td>1</td>\n",
              "      <td>NaN</td>\n",
              "      <td>NaN</td>\n",
              "      <td>1.0</td>\n",
              "      <td>1.0</td>\n",
              "      <td>[\"Elevator\", \"Long term stays allowed\", \"Wifi\"...</td>\n",
              "      <td>$52.00</td>\n",
              "      <td>14</td>\n",
              "      <td>999</td>\n",
              "      <td>14.0</td>\n",
              "      <td>14.0</td>\n",
              "      <td>999.0</td>\n",
              "      <td>999.0</td>\n",
              "      <td>14.0</td>\n",
              "      <td>999.0</td>\n",
              "      <td>NaN</td>\n",
              "      <td>t</td>\n",
              "      <td>8</td>\n",
              "      <td>38</td>\n",
              "      <td>68</td>\n",
              "      <td>343</td>\n",
              "      <td>2021-10-28</td>\n",
              "      <td>20</td>\n",
              "      <td>0</td>\n",
              "      <td>0</td>\n",
              "      <td>2013-04-20</td>\n",
              "      <td>2019-10-17</td>\n",
              "      <td>4.39</td>\n",
              "      <td>4.12</td>\n",
              "      <td>4.24</td>\n",
              "      <td>4.53</td>\n",
              "      <td>4.47</td>\n",
              "      <td>4.53</td>\n",
              "      <td>4.59</td>\n",
              "      <td>NaN</td>\n",
              "      <td>f</td>\n",
              "      <td>50</td>\n",
              "      <td>1</td>\n",
              "      <td>49</td>\n",
              "      <td>0</td>\n",
              "      <td>0.19</td>\n",
              "    </tr>\n",
              "  </tbody>\n",
              "</table>\n",
              "</div>\n",
              "      <button class=\"colab-df-convert\" onclick=\"convertToInteractive('df-28119461-8899-4f4b-9e9e-d71acc12e1d3')\"\n",
              "              title=\"Convert this dataframe to an interactive table.\"\n",
              "              style=\"display:none;\">\n",
              "        \n",
              "  <svg xmlns=\"http://www.w3.org/2000/svg\" height=\"24px\"viewBox=\"0 0 24 24\"\n",
              "       width=\"24px\">\n",
              "    <path d=\"M0 0h24v24H0V0z\" fill=\"none\"/>\n",
              "    <path d=\"M18.56 5.44l.94 2.06.94-2.06 2.06-.94-2.06-.94-.94-2.06-.94 2.06-2.06.94zm-11 1L8.5 8.5l.94-2.06 2.06-.94-2.06-.94L8.5 2.5l-.94 2.06-2.06.94zm10 10l.94 2.06.94-2.06 2.06-.94-2.06-.94-.94-2.06-.94 2.06-2.06.94z\"/><path d=\"M17.41 7.96l-1.37-1.37c-.4-.4-.92-.59-1.43-.59-.52 0-1.04.2-1.43.59L10.3 9.45l-7.72 7.72c-.78.78-.78 2.05 0 2.83L4 21.41c.39.39.9.59 1.41.59.51 0 1.02-.2 1.41-.59l7.78-7.78 2.81-2.81c.8-.78.8-2.07 0-2.86zM5.41 20L4 18.59l7.72-7.72 1.47 1.35L5.41 20z\"/>\n",
              "  </svg>\n",
              "      </button>\n",
              "      \n",
              "  <style>\n",
              "    .colab-df-container {\n",
              "      display:flex;\n",
              "      flex-wrap:wrap;\n",
              "      gap: 12px;\n",
              "    }\n",
              "\n",
              "    .colab-df-convert {\n",
              "      background-color: #E8F0FE;\n",
              "      border: none;\n",
              "      border-radius: 50%;\n",
              "      cursor: pointer;\n",
              "      display: none;\n",
              "      fill: #1967D2;\n",
              "      height: 32px;\n",
              "      padding: 0 0 0 0;\n",
              "      width: 32px;\n",
              "    }\n",
              "\n",
              "    .colab-df-convert:hover {\n",
              "      background-color: #E2EBFA;\n",
              "      box-shadow: 0px 1px 2px rgba(60, 64, 67, 0.3), 0px 1px 3px 1px rgba(60, 64, 67, 0.15);\n",
              "      fill: #174EA6;\n",
              "    }\n",
              "\n",
              "    [theme=dark] .colab-df-convert {\n",
              "      background-color: #3B4455;\n",
              "      fill: #D2E3FC;\n",
              "    }\n",
              "\n",
              "    [theme=dark] .colab-df-convert:hover {\n",
              "      background-color: #434B5C;\n",
              "      box-shadow: 0px 1px 3px 1px rgba(0, 0, 0, 0.15);\n",
              "      filter: drop-shadow(0px 1px 2px rgba(0, 0, 0, 0.3));\n",
              "      fill: #FFFFFF;\n",
              "    }\n",
              "  </style>\n",
              "\n",
              "      <script>\n",
              "        const buttonEl =\n",
              "          document.querySelector('#df-28119461-8899-4f4b-9e9e-d71acc12e1d3 button.colab-df-convert');\n",
              "        buttonEl.style.display =\n",
              "          google.colab.kernel.accessAllowed ? 'block' : 'none';\n",
              "\n",
              "        async function convertToInteractive(key) {\n",
              "          const element = document.querySelector('#df-28119461-8899-4f4b-9e9e-d71acc12e1d3');\n",
              "          const dataTable =\n",
              "            await google.colab.kernel.invokeFunction('convertToInteractive',\n",
              "                                                     [key], {});\n",
              "          if (!dataTable) return;\n",
              "\n",
              "          const docLinkHtml = 'Like what you see? Visit the ' +\n",
              "            '<a target=\"_blank\" href=https://colab.research.google.com/notebooks/data_table.ipynb>data table notebook</a>'\n",
              "            + ' to learn more about interactive tables.';\n",
              "          element.innerHTML = '';\n",
              "          dataTable['output_type'] = 'display_data';\n",
              "          await google.colab.output.renderOutput(dataTable, element);\n",
              "          const docLink = document.createElement('div');\n",
              "          docLink.innerHTML = docLinkHtml;\n",
              "          element.appendChild(docLink);\n",
              "        }\n",
              "      </script>\n",
              "    </div>\n",
              "  </div>\n",
              "  "
            ],
            "text/plain": [
              "       id  ... reviews_per_month\n",
              "0   50646  ...              0.21\n",
              "1   71609  ...              0.27\n",
              "2   71896  ...              0.32\n",
              "3   71903  ...              0.64\n",
              "4  275343  ...              0.19\n",
              "\n",
              "[5 rows x 74 columns]"
            ]
          },
          "metadata": {},
          "execution_count": 222
        }
      ]
    },
    {
      "cell_type": "markdown",
      "source": [
        "Na podstawie wstępnej oceny możemy wykonać usunięcie kolumn, które nie będą przynosić wartości dla analizy"
      ],
      "metadata": {
        "id": "T-Fgv3Z38y86"
      }
    },
    {
      "cell_type": "code",
      "source": [
        "data_clean2=data_clean[['host_is_superhost', 'neighbourhood_group_cleansed', 'latitude', 'longitude', 'room_type', 'accommodates',\n",
        "       'bathrooms_text', 'bedrooms', 'beds', 'price','review_scores_rating']]"
      ],
      "metadata": {
        "id": "dW1FHU9r7kig"
      },
      "execution_count": 223,
      "outputs": []
    },
    {
      "cell_type": "markdown",
      "source": [
        "Dane po wstępnej obróbce:"
      ],
      "metadata": {
        "id": "klFDQljIdcE1"
      }
    },
    {
      "cell_type": "code",
      "source": [
        "data_clean2.head(5)"
      ],
      "metadata": {
        "colab": {
          "base_uri": "https://localhost:8080/",
          "height": 206
        },
        "id": "N2exrOPq6sc4",
        "outputId": "f72c36a5-655b-4903-f10b-2e8d426c2da9"
      },
      "execution_count": 224,
      "outputs": [
        {
          "output_type": "execute_result",
          "data": {
            "text/html": [
              "\n",
              "  <div id=\"df-4b711a5b-331f-4a0a-81ed-ae514699a12b\">\n",
              "    <div class=\"colab-df-container\">\n",
              "      <div>\n",
              "<style scoped>\n",
              "    .dataframe tbody tr th:only-of-type {\n",
              "        vertical-align: middle;\n",
              "    }\n",
              "\n",
              "    .dataframe tbody tr th {\n",
              "        vertical-align: top;\n",
              "    }\n",
              "\n",
              "    .dataframe thead th {\n",
              "        text-align: right;\n",
              "    }\n",
              "</style>\n",
              "<table border=\"1\" class=\"dataframe\">\n",
              "  <thead>\n",
              "    <tr style=\"text-align: right;\">\n",
              "      <th></th>\n",
              "      <th>host_is_superhost</th>\n",
              "      <th>neighbourhood_group_cleansed</th>\n",
              "      <th>latitude</th>\n",
              "      <th>longitude</th>\n",
              "      <th>room_type</th>\n",
              "      <th>accommodates</th>\n",
              "      <th>bathrooms_text</th>\n",
              "      <th>bedrooms</th>\n",
              "      <th>beds</th>\n",
              "      <th>price</th>\n",
              "      <th>review_scores_rating</th>\n",
              "    </tr>\n",
              "  </thead>\n",
              "  <tbody>\n",
              "    <tr>\n",
              "      <th>0</th>\n",
              "      <td>f</td>\n",
              "      <td>Central Region</td>\n",
              "      <td>1.33432</td>\n",
              "      <td>103.78521</td>\n",
              "      <td>Private room</td>\n",
              "      <td>2</td>\n",
              "      <td>1 bath</td>\n",
              "      <td>1.0</td>\n",
              "      <td>1.0</td>\n",
              "      <td>$80.00</td>\n",
              "      <td>4.56</td>\n",
              "    </tr>\n",
              "    <tr>\n",
              "      <th>1</th>\n",
              "      <td>f</td>\n",
              "      <td>East Region</td>\n",
              "      <td>1.34537</td>\n",
              "      <td>103.95887</td>\n",
              "      <td>Private room</td>\n",
              "      <td>6</td>\n",
              "      <td>1 private bath</td>\n",
              "      <td>2.0</td>\n",
              "      <td>3.0</td>\n",
              "      <td>$177.00</td>\n",
              "      <td>4.44</td>\n",
              "    </tr>\n",
              "    <tr>\n",
              "      <th>2</th>\n",
              "      <td>f</td>\n",
              "      <td>East Region</td>\n",
              "      <td>1.34754</td>\n",
              "      <td>103.95958</td>\n",
              "      <td>Private room</td>\n",
              "      <td>3</td>\n",
              "      <td>Shared half-bath</td>\n",
              "      <td>1.0</td>\n",
              "      <td>1.0</td>\n",
              "      <td>$81.00</td>\n",
              "      <td>4.16</td>\n",
              "    </tr>\n",
              "    <tr>\n",
              "      <th>3</th>\n",
              "      <td>f</td>\n",
              "      <td>East Region</td>\n",
              "      <td>1.34531</td>\n",
              "      <td>103.96100</td>\n",
              "      <td>Private room</td>\n",
              "      <td>3</td>\n",
              "      <td>Shared half-bath</td>\n",
              "      <td>1.0</td>\n",
              "      <td>2.0</td>\n",
              "      <td>$81.00</td>\n",
              "      <td>4.42</td>\n",
              "    </tr>\n",
              "    <tr>\n",
              "      <th>4</th>\n",
              "      <td>f</td>\n",
              "      <td>Central Region</td>\n",
              "      <td>1.29015</td>\n",
              "      <td>103.80814</td>\n",
              "      <td>Private room</td>\n",
              "      <td>1</td>\n",
              "      <td>NaN</td>\n",
              "      <td>1.0</td>\n",
              "      <td>1.0</td>\n",
              "      <td>$52.00</td>\n",
              "      <td>4.39</td>\n",
              "    </tr>\n",
              "  </tbody>\n",
              "</table>\n",
              "</div>\n",
              "      <button class=\"colab-df-convert\" onclick=\"convertToInteractive('df-4b711a5b-331f-4a0a-81ed-ae514699a12b')\"\n",
              "              title=\"Convert this dataframe to an interactive table.\"\n",
              "              style=\"display:none;\">\n",
              "        \n",
              "  <svg xmlns=\"http://www.w3.org/2000/svg\" height=\"24px\"viewBox=\"0 0 24 24\"\n",
              "       width=\"24px\">\n",
              "    <path d=\"M0 0h24v24H0V0z\" fill=\"none\"/>\n",
              "    <path d=\"M18.56 5.44l.94 2.06.94-2.06 2.06-.94-2.06-.94-.94-2.06-.94 2.06-2.06.94zm-11 1L8.5 8.5l.94-2.06 2.06-.94-2.06-.94L8.5 2.5l-.94 2.06-2.06.94zm10 10l.94 2.06.94-2.06 2.06-.94-2.06-.94-.94-2.06-.94 2.06-2.06.94z\"/><path d=\"M17.41 7.96l-1.37-1.37c-.4-.4-.92-.59-1.43-.59-.52 0-1.04.2-1.43.59L10.3 9.45l-7.72 7.72c-.78.78-.78 2.05 0 2.83L4 21.41c.39.39.9.59 1.41.59.51 0 1.02-.2 1.41-.59l7.78-7.78 2.81-2.81c.8-.78.8-2.07 0-2.86zM5.41 20L4 18.59l7.72-7.72 1.47 1.35L5.41 20z\"/>\n",
              "  </svg>\n",
              "      </button>\n",
              "      \n",
              "  <style>\n",
              "    .colab-df-container {\n",
              "      display:flex;\n",
              "      flex-wrap:wrap;\n",
              "      gap: 12px;\n",
              "    }\n",
              "\n",
              "    .colab-df-convert {\n",
              "      background-color: #E8F0FE;\n",
              "      border: none;\n",
              "      border-radius: 50%;\n",
              "      cursor: pointer;\n",
              "      display: none;\n",
              "      fill: #1967D2;\n",
              "      height: 32px;\n",
              "      padding: 0 0 0 0;\n",
              "      width: 32px;\n",
              "    }\n",
              "\n",
              "    .colab-df-convert:hover {\n",
              "      background-color: #E2EBFA;\n",
              "      box-shadow: 0px 1px 2px rgba(60, 64, 67, 0.3), 0px 1px 3px 1px rgba(60, 64, 67, 0.15);\n",
              "      fill: #174EA6;\n",
              "    }\n",
              "\n",
              "    [theme=dark] .colab-df-convert {\n",
              "      background-color: #3B4455;\n",
              "      fill: #D2E3FC;\n",
              "    }\n",
              "\n",
              "    [theme=dark] .colab-df-convert:hover {\n",
              "      background-color: #434B5C;\n",
              "      box-shadow: 0px 1px 3px 1px rgba(0, 0, 0, 0.15);\n",
              "      filter: drop-shadow(0px 1px 2px rgba(0, 0, 0, 0.3));\n",
              "      fill: #FFFFFF;\n",
              "    }\n",
              "  </style>\n",
              "\n",
              "      <script>\n",
              "        const buttonEl =\n",
              "          document.querySelector('#df-4b711a5b-331f-4a0a-81ed-ae514699a12b button.colab-df-convert');\n",
              "        buttonEl.style.display =\n",
              "          google.colab.kernel.accessAllowed ? 'block' : 'none';\n",
              "\n",
              "        async function convertToInteractive(key) {\n",
              "          const element = document.querySelector('#df-4b711a5b-331f-4a0a-81ed-ae514699a12b');\n",
              "          const dataTable =\n",
              "            await google.colab.kernel.invokeFunction('convertToInteractive',\n",
              "                                                     [key], {});\n",
              "          if (!dataTable) return;\n",
              "\n",
              "          const docLinkHtml = 'Like what you see? Visit the ' +\n",
              "            '<a target=\"_blank\" href=https://colab.research.google.com/notebooks/data_table.ipynb>data table notebook</a>'\n",
              "            + ' to learn more about interactive tables.';\n",
              "          element.innerHTML = '';\n",
              "          dataTable['output_type'] = 'display_data';\n",
              "          await google.colab.output.renderOutput(dataTable, element);\n",
              "          const docLink = document.createElement('div');\n",
              "          docLink.innerHTML = docLinkHtml;\n",
              "          element.appendChild(docLink);\n",
              "        }\n",
              "      </script>\n",
              "    </div>\n",
              "  </div>\n",
              "  "
            ],
            "text/plain": [
              "  host_is_superhost neighbourhood_group_cleansed  ...    price  review_scores_rating\n",
              "0                 f               Central Region  ...   $80.00                  4.56\n",
              "1                 f                  East Region  ...  $177.00                  4.44\n",
              "2                 f                  East Region  ...   $81.00                  4.16\n",
              "3                 f                  East Region  ...   $81.00                  4.42\n",
              "4                 f               Central Region  ...   $52.00                  4.39\n",
              "\n",
              "[5 rows x 11 columns]"
            ]
          },
          "metadata": {},
          "execution_count": 224
        }
      ]
    },
    {
      "cell_type": "markdown",
      "source": [
        "---\n",
        "# Zadanie 4."
      ],
      "metadata": {
        "id": "cv0fQrJg9b6n"
      }
    },
    {
      "cell_type": "markdown",
      "source": [
        "Weryfikacja typów zmiennych:"
      ],
      "metadata": {
        "id": "JU1mzokJdpM6"
      }
    },
    {
      "cell_type": "code",
      "source": [
        "data_clean2.info()"
      ],
      "metadata": {
        "colab": {
          "base_uri": "https://localhost:8080/"
        },
        "id": "EFDshBigDipv",
        "outputId": "b6a61214-5b2e-4bb9-cd67-d2ca45c1e22b"
      },
      "execution_count": 225,
      "outputs": [
        {
          "output_type": "stream",
          "name": "stdout",
          "text": [
            "<class 'pandas.core.frame.DataFrame'>\n",
            "RangeIndex: 4123 entries, 0 to 4122\n",
            "Data columns (total 11 columns):\n",
            " #   Column                        Non-Null Count  Dtype  \n",
            "---  ------                        --------------  -----  \n",
            " 0   host_is_superhost             4115 non-null   object \n",
            " 1   neighbourhood_group_cleansed  4123 non-null   object \n",
            " 2   latitude                      4123 non-null   float64\n",
            " 3   longitude                     4123 non-null   float64\n",
            " 4   room_type                     4123 non-null   object \n",
            " 5   accommodates                  4123 non-null   int64  \n",
            " 6   bathrooms_text                4094 non-null   object \n",
            " 7   bedrooms                      3664 non-null   float64\n",
            " 8   beds                          3859 non-null   float64\n",
            " 9   price                         4123 non-null   object \n",
            " 10  review_scores_rating          2308 non-null   float64\n",
            "dtypes: float64(5), int64(1), object(5)\n",
            "memory usage: 354.4+ KB\n"
          ]
        }
      ]
    },
    {
      "cell_type": "code",
      "source": [
        "data_clean2.host_is_superhost.unique()"
      ],
      "metadata": {
        "colab": {
          "base_uri": "https://localhost:8080/"
        },
        "id": "mahSDHWbFPlf",
        "outputId": "ca5b0ef8-fb1c-4b77-b6bf-ceff1c3a2d86"
      },
      "execution_count": 226,
      "outputs": [
        {
          "output_type": "execute_result",
          "data": {
            "text/plain": [
              "array(['f', 't', nan], dtype=object)"
            ]
          },
          "metadata": {},
          "execution_count": 226
        }
      ]
    },
    {
      "cell_type": "markdown",
      "source": [
        "Korekta danych \"host_is_superhost\" na kategoryczne 0 - false i 1 - true.\n",
        "\n",
        "\n",
        "\n"
      ],
      "metadata": {
        "id": "uwYfkgPDdyX7"
      }
    },
    {
      "cell_type": "code",
      "source": [
        "data_clean2.host_is_superhost=data_clean2.host_is_superhost.str.replace('f','0').str.replace('t','1').astype(np.float64)"
      ],
      "metadata": {
        "colab": {
          "base_uri": "https://localhost:8080/"
        },
        "id": "oaMBpvy1w5v_",
        "outputId": "edae6c43-ad54-4eef-87bc-3d4ad9c29b4d"
      },
      "execution_count": 227,
      "outputs": [
        {
          "output_type": "stream",
          "name": "stderr",
          "text": [
            "/usr/local/lib/python3.7/dist-packages/pandas/core/generic.py:5170: SettingWithCopyWarning: \n",
            "A value is trying to be set on a copy of a slice from a DataFrame.\n",
            "Try using .loc[row_indexer,col_indexer] = value instead\n",
            "\n",
            "See the caveats in the documentation: https://pandas.pydata.org/pandas-docs/stable/user_guide/indexing.html#returning-a-view-versus-a-copy\n",
            "  self[name] = value\n"
          ]
        }
      ]
    },
    {
      "cell_type": "code",
      "source": [
        "host_is_superhost_label={0:'false',1:'true'}"
      ],
      "metadata": {
        "id": "1CqMUSB7xPf7"
      },
      "execution_count": 228,
      "outputs": []
    },
    {
      "cell_type": "code",
      "source": [
        "data_clean2.host_is_superhost.unique()"
      ],
      "metadata": {
        "colab": {
          "base_uri": "https://localhost:8080/"
        },
        "id": "peoBLRVNxJGT",
        "outputId": "ddd8ed44-8807-4470-d6a2-3ef7dbbbe970"
      },
      "execution_count": 229,
      "outputs": [
        {
          "output_type": "execute_result",
          "data": {
            "text/plain": [
              "array([ 0.,  1., nan])"
            ]
          },
          "metadata": {},
          "execution_count": 229
        }
      ]
    },
    {
      "cell_type": "code",
      "source": [
        "data_clean2.neighbourhood_group_cleansed.unique()"
      ],
      "metadata": {
        "colab": {
          "base_uri": "https://localhost:8080/"
        },
        "id": "gL8LMG7LFcvY",
        "outputId": "a5ab9bff-d16e-4184-b026-23de4c21036e"
      },
      "execution_count": 230,
      "outputs": [
        {
          "output_type": "execute_result",
          "data": {
            "text/plain": [
              "array(['Central Region', 'East Region', 'North-East Region',\n",
              "       'West Region', 'North Region'], dtype=object)"
            ]
          },
          "metadata": {},
          "execution_count": 230
        }
      ]
    },
    {
      "cell_type": "markdown",
      "source": [
        "Korekta danych \"neighbourhood_group_cleansed\" na kategoryczne 0:'Central Region', 1:'East Region', 2:'North-East Region',\n",
        "       3:'West Region', 4:'North Region'"
      ],
      "metadata": {
        "id": "X3mgjY6VeDep"
      }
    },
    {
      "cell_type": "code",
      "source": [
        "data_clean2.neighbourhood_group_cleansed=data_clean2.neighbourhood_group_cleansed.str.replace(r'Central Region','0', regex=True).replace(r'^East Region','1', regex=True).replace('North-East Region','2').replace('West Region','3').replace('North Region','4').astype(np.int8)"
      ],
      "metadata": {
        "colab": {
          "base_uri": "https://localhost:8080/"
        },
        "id": "epoBRZwrzdbq",
        "outputId": "4936e3e4-ec35-4b6c-a8a7-472369364068"
      },
      "execution_count": 231,
      "outputs": [
        {
          "output_type": "stream",
          "name": "stderr",
          "text": [
            "/usr/local/lib/python3.7/dist-packages/pandas/core/generic.py:5170: SettingWithCopyWarning: \n",
            "A value is trying to be set on a copy of a slice from a DataFrame.\n",
            "Try using .loc[row_indexer,col_indexer] = value instead\n",
            "\n",
            "See the caveats in the documentation: https://pandas.pydata.org/pandas-docs/stable/user_guide/indexing.html#returning-a-view-versus-a-copy\n",
            "  self[name] = value\n"
          ]
        }
      ]
    },
    {
      "cell_type": "code",
      "source": [
        "data_clean2.neighbourhood_group_cleansed.unique()"
      ],
      "metadata": {
        "colab": {
          "base_uri": "https://localhost:8080/"
        },
        "id": "mAlUEVpOzrhb",
        "outputId": "df0ea8d1-6065-4b77-e422-e09dadd0ca18"
      },
      "execution_count": 232,
      "outputs": [
        {
          "output_type": "execute_result",
          "data": {
            "text/plain": [
              "array([0, 1, 2, 3, 4], dtype=int8)"
            ]
          },
          "metadata": {},
          "execution_count": 232
        }
      ]
    },
    {
      "cell_type": "code",
      "source": [
        "neighbourhood_label={0:'Central Region', 1:'East Region', 2:'North-East Region',\n",
        "       3:'West Region', 4:'North Region'}"
      ],
      "metadata": {
        "id": "mRWONBTgxg6C"
      },
      "execution_count": 233,
      "outputs": []
    },
    {
      "cell_type": "code",
      "source": [
        "data_clean2.room_type.unique()"
      ],
      "metadata": {
        "colab": {
          "base_uri": "https://localhost:8080/"
        },
        "id": "4Zg88KIRFkJW",
        "outputId": "48e0c0a4-e1ca-4341-9d66-ebf4121e033c"
      },
      "execution_count": 234,
      "outputs": [
        {
          "output_type": "execute_result",
          "data": {
            "text/plain": [
              "array(['Private room', 'Entire home/apt', 'Shared room', 'Hotel room'],\n",
              "      dtype=object)"
            ]
          },
          "metadata": {},
          "execution_count": 234
        }
      ]
    },
    {
      "cell_type": "markdown",
      "source": [
        "Korekta danych \"room_type\" na kategoryczne 0:'Private room', 1:'Entire home/apt', 2:'Shared room', 3:'Hotel room'"
      ],
      "metadata": {
        "id": "qFQ2zr4zeNoH"
      }
    },
    {
      "cell_type": "code",
      "source": [
        "data_clean2.room_type=data_clean2.room_type.str.replace('Private room','0').str.replace('Entire home/apt','1').str.replace('Shared room','2').str.replace('Hotel room','3').astype(np.int8)"
      ],
      "metadata": {
        "colab": {
          "base_uri": "https://localhost:8080/"
        },
        "id": "Vtp_3v2120y8",
        "outputId": "e9f6e7c1-e0ae-4ce5-a56a-f129cd784a0f"
      },
      "execution_count": 235,
      "outputs": [
        {
          "output_type": "stream",
          "name": "stderr",
          "text": [
            "/usr/local/lib/python3.7/dist-packages/pandas/core/generic.py:5170: SettingWithCopyWarning: \n",
            "A value is trying to be set on a copy of a slice from a DataFrame.\n",
            "Try using .loc[row_indexer,col_indexer] = value instead\n",
            "\n",
            "See the caveats in the documentation: https://pandas.pydata.org/pandas-docs/stable/user_guide/indexing.html#returning-a-view-versus-a-copy\n",
            "  self[name] = value\n"
          ]
        }
      ]
    },
    {
      "cell_type": "code",
      "source": [
        "data_clean2.room_type.unique()"
      ],
      "metadata": {
        "colab": {
          "base_uri": "https://localhost:8080/"
        },
        "id": "SRwUKdkH3T40",
        "outputId": "b5200598-7e3a-4942-e1af-b4531d125b77"
      },
      "execution_count": 236,
      "outputs": [
        {
          "output_type": "execute_result",
          "data": {
            "text/plain": [
              "array([0, 1, 2, 3], dtype=int8)"
            ]
          },
          "metadata": {},
          "execution_count": 236
        }
      ]
    },
    {
      "cell_type": "code",
      "source": [
        "room_type_label={0:'Private room', 1:'Entire home/apt', 2:'Shared room', 3:'Hotel room'}"
      ],
      "metadata": {
        "id": "RGvk64_w4uCw"
      },
      "execution_count": 237,
      "outputs": []
    },
    {
      "cell_type": "code",
      "source": [
        "data_clean2.bathrooms_text.unique()"
      ],
      "metadata": {
        "colab": {
          "base_uri": "https://localhost:8080/"
        },
        "id": "QEfFGMIoFpJe",
        "outputId": "f08df900-d86d-4512-c486-3bd0ebb31804"
      },
      "execution_count": 238,
      "outputs": [
        {
          "output_type": "execute_result",
          "data": {
            "text/plain": [
              "array(['1 bath', '1 private bath', 'Shared half-bath', nan,\n",
              "       '1.5 shared baths', '1 shared bath', '0 baths', '2 shared baths',\n",
              "       '4 shared baths', '2 baths', 'Private half-bath', '3 baths',\n",
              "       '2.5 baths', '4 baths', '3 shared baths', '1.5 baths', '8 baths',\n",
              "       '0 shared baths', 'Half-bath', '3.5 baths', '2.5 shared baths',\n",
              "       '5 baths', '6 baths', '5 shared baths', '7.5 shared baths',\n",
              "       '7 shared baths', '8 shared baths', '6 shared baths',\n",
              "       '12.5 shared baths', '4.5 shared baths', '4.5 baths',\n",
              "       '8.5 shared baths', '8.5 baths', '9 shared baths', '10 baths',\n",
              "       '10 shared baths', '21 shared baths', '3.5 shared baths',\n",
              "       '16 shared baths', '16 baths', '13 baths', '12 shared baths',\n",
              "       '12 baths', '13 shared baths', '5.5 shared baths'], dtype=object)"
            ]
          },
          "metadata": {},
          "execution_count": 238
        }
      ]
    },
    {
      "cell_type": "markdown",
      "source": [
        "Korekta zmiennych \"bathrooms_text\" na liczbowe:"
      ],
      "metadata": {
        "id": "fRKoFuMXeW-D"
      }
    },
    {
      "cell_type": "code",
      "source": [
        "data_clean2.bathrooms_text = np.where(data_clean[\"bathrooms_text\"].str.lower().str.contains('half'),0.5, data_clean[\"bathrooms_text\"].str.split().str[0]).astype(np.float64)"
      ],
      "metadata": {
        "colab": {
          "base_uri": "https://localhost:8080/"
        },
        "id": "9sNRsF5aHrjP",
        "outputId": "e521c3ce-0fe7-4a90-c353-6cbe17304301"
      },
      "execution_count": 239,
      "outputs": [
        {
          "output_type": "stream",
          "name": "stderr",
          "text": [
            "/usr/local/lib/python3.7/dist-packages/pandas/core/generic.py:5170: SettingWithCopyWarning: \n",
            "A value is trying to be set on a copy of a slice from a DataFrame.\n",
            "Try using .loc[row_indexer,col_indexer] = value instead\n",
            "\n",
            "See the caveats in the documentation: https://pandas.pydata.org/pandas-docs/stable/user_guide/indexing.html#returning-a-view-versus-a-copy\n",
            "  self[name] = value\n"
          ]
        }
      ]
    },
    {
      "cell_type": "code",
      "source": [
        "data_clean2.bathrooms_text.unique()"
      ],
      "metadata": {
        "colab": {
          "base_uri": "https://localhost:8080/"
        },
        "id": "tj88rcyrHzrX",
        "outputId": "aa5ebc6c-1139-4146-b58b-c0ec64013eec"
      },
      "execution_count": 240,
      "outputs": [
        {
          "output_type": "execute_result",
          "data": {
            "text/plain": [
              "array([ 1. ,  0.5,  1.5,  0. ,  2. ,  4. ,  3. ,  2.5,  8. ,  3.5,  5. ,\n",
              "        6. ,  7.5,  7. , 12.5,  4.5,  8.5,  9. , 10. , 21. , 16. , 13. ,\n",
              "       12. ,  5.5])"
            ]
          },
          "metadata": {},
          "execution_count": 240
        }
      ]
    },
    {
      "cell_type": "markdown",
      "source": [
        "Korekta nazwy kolumn na krótsza formę:"
      ],
      "metadata": {
        "id": "3OT7E2NlehRg"
      }
    },
    {
      "cell_type": "code",
      "source": [
        "data_clean2=data_clean2.rename(columns={\"bathrooms_text\": \"bathrooms\",\"neighbourhood_group_cleansed\":'neighbourhood'})"
      ],
      "metadata": {
        "id": "wQ2566gKMxDQ"
      },
      "execution_count": 241,
      "outputs": []
    },
    {
      "cell_type": "markdown",
      "source": [
        "Korekta kolumny \"price\" na format liczbowy"
      ],
      "metadata": {
        "id": "LwfbQ42weqSy"
      }
    },
    {
      "cell_type": "code",
      "source": [
        "data_clean2.price=data_clean2.price.str.replace('$','').str.replace(',','').astype(np.float64)"
      ],
      "metadata": {
        "id": "n51TSS4yGD-X"
      },
      "execution_count": 242,
      "outputs": []
    },
    {
      "cell_type": "code",
      "source": [
        "data_clean2.info()"
      ],
      "metadata": {
        "colab": {
          "base_uri": "https://localhost:8080/"
        },
        "id": "kFESN0-LGzEf",
        "outputId": "203bd9ff-19ab-4981-8e5c-8418df309f85"
      },
      "execution_count": 243,
      "outputs": [
        {
          "output_type": "stream",
          "name": "stdout",
          "text": [
            "<class 'pandas.core.frame.DataFrame'>\n",
            "RangeIndex: 4123 entries, 0 to 4122\n",
            "Data columns (total 11 columns):\n",
            " #   Column                Non-Null Count  Dtype  \n",
            "---  ------                --------------  -----  \n",
            " 0   host_is_superhost     4115 non-null   float64\n",
            " 1   neighbourhood         4123 non-null   int8   \n",
            " 2   latitude              4123 non-null   float64\n",
            " 3   longitude             4123 non-null   float64\n",
            " 4   room_type             4123 non-null   int8   \n",
            " 5   accommodates          4123 non-null   int64  \n",
            " 6   bathrooms             4123 non-null   float64\n",
            " 7   bedrooms              3664 non-null   float64\n",
            " 8   beds                  3859 non-null   float64\n",
            " 9   price                 4123 non-null   float64\n",
            " 10  review_scores_rating  2308 non-null   float64\n",
            "dtypes: float64(8), int64(1), int8(2)\n",
            "memory usage: 298.1 KB\n"
          ]
        }
      ]
    },
    {
      "cell_type": "markdown",
      "source": [
        "Próbka danych po poprawie typu i kategorii danych:"
      ],
      "metadata": {
        "id": "TdPruLNfeys2"
      }
    },
    {
      "cell_type": "code",
      "source": [
        "data_clean2.head(5)"
      ],
      "metadata": {
        "colab": {
          "base_uri": "https://localhost:8080/",
          "height": 206
        },
        "id": "qYgfn1dIG17G",
        "outputId": "035aa594-9c4c-4a89-bc0a-72b994a92c7d"
      },
      "execution_count": 244,
      "outputs": [
        {
          "output_type": "execute_result",
          "data": {
            "text/html": [
              "\n",
              "  <div id=\"df-bb3b0719-ad22-4a20-b379-b52ab50d933d\">\n",
              "    <div class=\"colab-df-container\">\n",
              "      <div>\n",
              "<style scoped>\n",
              "    .dataframe tbody tr th:only-of-type {\n",
              "        vertical-align: middle;\n",
              "    }\n",
              "\n",
              "    .dataframe tbody tr th {\n",
              "        vertical-align: top;\n",
              "    }\n",
              "\n",
              "    .dataframe thead th {\n",
              "        text-align: right;\n",
              "    }\n",
              "</style>\n",
              "<table border=\"1\" class=\"dataframe\">\n",
              "  <thead>\n",
              "    <tr style=\"text-align: right;\">\n",
              "      <th></th>\n",
              "      <th>host_is_superhost</th>\n",
              "      <th>neighbourhood</th>\n",
              "      <th>latitude</th>\n",
              "      <th>longitude</th>\n",
              "      <th>room_type</th>\n",
              "      <th>accommodates</th>\n",
              "      <th>bathrooms</th>\n",
              "      <th>bedrooms</th>\n",
              "      <th>beds</th>\n",
              "      <th>price</th>\n",
              "      <th>review_scores_rating</th>\n",
              "    </tr>\n",
              "  </thead>\n",
              "  <tbody>\n",
              "    <tr>\n",
              "      <th>0</th>\n",
              "      <td>0.0</td>\n",
              "      <td>0</td>\n",
              "      <td>1.33432</td>\n",
              "      <td>103.78521</td>\n",
              "      <td>0</td>\n",
              "      <td>2</td>\n",
              "      <td>1.0</td>\n",
              "      <td>1.0</td>\n",
              "      <td>1.0</td>\n",
              "      <td>80.0</td>\n",
              "      <td>4.56</td>\n",
              "    </tr>\n",
              "    <tr>\n",
              "      <th>1</th>\n",
              "      <td>0.0</td>\n",
              "      <td>1</td>\n",
              "      <td>1.34537</td>\n",
              "      <td>103.95887</td>\n",
              "      <td>0</td>\n",
              "      <td>6</td>\n",
              "      <td>1.0</td>\n",
              "      <td>2.0</td>\n",
              "      <td>3.0</td>\n",
              "      <td>177.0</td>\n",
              "      <td>4.44</td>\n",
              "    </tr>\n",
              "    <tr>\n",
              "      <th>2</th>\n",
              "      <td>0.0</td>\n",
              "      <td>1</td>\n",
              "      <td>1.34754</td>\n",
              "      <td>103.95958</td>\n",
              "      <td>0</td>\n",
              "      <td>3</td>\n",
              "      <td>0.5</td>\n",
              "      <td>1.0</td>\n",
              "      <td>1.0</td>\n",
              "      <td>81.0</td>\n",
              "      <td>4.16</td>\n",
              "    </tr>\n",
              "    <tr>\n",
              "      <th>3</th>\n",
              "      <td>0.0</td>\n",
              "      <td>1</td>\n",
              "      <td>1.34531</td>\n",
              "      <td>103.96100</td>\n",
              "      <td>0</td>\n",
              "      <td>3</td>\n",
              "      <td>0.5</td>\n",
              "      <td>1.0</td>\n",
              "      <td>2.0</td>\n",
              "      <td>81.0</td>\n",
              "      <td>4.42</td>\n",
              "    </tr>\n",
              "    <tr>\n",
              "      <th>4</th>\n",
              "      <td>0.0</td>\n",
              "      <td>0</td>\n",
              "      <td>1.29015</td>\n",
              "      <td>103.80814</td>\n",
              "      <td>0</td>\n",
              "      <td>1</td>\n",
              "      <td>0.5</td>\n",
              "      <td>1.0</td>\n",
              "      <td>1.0</td>\n",
              "      <td>52.0</td>\n",
              "      <td>4.39</td>\n",
              "    </tr>\n",
              "  </tbody>\n",
              "</table>\n",
              "</div>\n",
              "      <button class=\"colab-df-convert\" onclick=\"convertToInteractive('df-bb3b0719-ad22-4a20-b379-b52ab50d933d')\"\n",
              "              title=\"Convert this dataframe to an interactive table.\"\n",
              "              style=\"display:none;\">\n",
              "        \n",
              "  <svg xmlns=\"http://www.w3.org/2000/svg\" height=\"24px\"viewBox=\"0 0 24 24\"\n",
              "       width=\"24px\">\n",
              "    <path d=\"M0 0h24v24H0V0z\" fill=\"none\"/>\n",
              "    <path d=\"M18.56 5.44l.94 2.06.94-2.06 2.06-.94-2.06-.94-.94-2.06-.94 2.06-2.06.94zm-11 1L8.5 8.5l.94-2.06 2.06-.94-2.06-.94L8.5 2.5l-.94 2.06-2.06.94zm10 10l.94 2.06.94-2.06 2.06-.94-2.06-.94-.94-2.06-.94 2.06-2.06.94z\"/><path d=\"M17.41 7.96l-1.37-1.37c-.4-.4-.92-.59-1.43-.59-.52 0-1.04.2-1.43.59L10.3 9.45l-7.72 7.72c-.78.78-.78 2.05 0 2.83L4 21.41c.39.39.9.59 1.41.59.51 0 1.02-.2 1.41-.59l7.78-7.78 2.81-2.81c.8-.78.8-2.07 0-2.86zM5.41 20L4 18.59l7.72-7.72 1.47 1.35L5.41 20z\"/>\n",
              "  </svg>\n",
              "      </button>\n",
              "      \n",
              "  <style>\n",
              "    .colab-df-container {\n",
              "      display:flex;\n",
              "      flex-wrap:wrap;\n",
              "      gap: 12px;\n",
              "    }\n",
              "\n",
              "    .colab-df-convert {\n",
              "      background-color: #E8F0FE;\n",
              "      border: none;\n",
              "      border-radius: 50%;\n",
              "      cursor: pointer;\n",
              "      display: none;\n",
              "      fill: #1967D2;\n",
              "      height: 32px;\n",
              "      padding: 0 0 0 0;\n",
              "      width: 32px;\n",
              "    }\n",
              "\n",
              "    .colab-df-convert:hover {\n",
              "      background-color: #E2EBFA;\n",
              "      box-shadow: 0px 1px 2px rgba(60, 64, 67, 0.3), 0px 1px 3px 1px rgba(60, 64, 67, 0.15);\n",
              "      fill: #174EA6;\n",
              "    }\n",
              "\n",
              "    [theme=dark] .colab-df-convert {\n",
              "      background-color: #3B4455;\n",
              "      fill: #D2E3FC;\n",
              "    }\n",
              "\n",
              "    [theme=dark] .colab-df-convert:hover {\n",
              "      background-color: #434B5C;\n",
              "      box-shadow: 0px 1px 3px 1px rgba(0, 0, 0, 0.15);\n",
              "      filter: drop-shadow(0px 1px 2px rgba(0, 0, 0, 0.3));\n",
              "      fill: #FFFFFF;\n",
              "    }\n",
              "  </style>\n",
              "\n",
              "      <script>\n",
              "        const buttonEl =\n",
              "          document.querySelector('#df-bb3b0719-ad22-4a20-b379-b52ab50d933d button.colab-df-convert');\n",
              "        buttonEl.style.display =\n",
              "          google.colab.kernel.accessAllowed ? 'block' : 'none';\n",
              "\n",
              "        async function convertToInteractive(key) {\n",
              "          const element = document.querySelector('#df-bb3b0719-ad22-4a20-b379-b52ab50d933d');\n",
              "          const dataTable =\n",
              "            await google.colab.kernel.invokeFunction('convertToInteractive',\n",
              "                                                     [key], {});\n",
              "          if (!dataTable) return;\n",
              "\n",
              "          const docLinkHtml = 'Like what you see? Visit the ' +\n",
              "            '<a target=\"_blank\" href=https://colab.research.google.com/notebooks/data_table.ipynb>data table notebook</a>'\n",
              "            + ' to learn more about interactive tables.';\n",
              "          element.innerHTML = '';\n",
              "          dataTable['output_type'] = 'display_data';\n",
              "          await google.colab.output.renderOutput(dataTable, element);\n",
              "          const docLink = document.createElement('div');\n",
              "          docLink.innerHTML = docLinkHtml;\n",
              "          element.appendChild(docLink);\n",
              "        }\n",
              "      </script>\n",
              "    </div>\n",
              "  </div>\n",
              "  "
            ],
            "text/plain": [
              "   host_is_superhost  neighbourhood  ...  price  review_scores_rating\n",
              "0                0.0              0  ...   80.0                  4.56\n",
              "1                0.0              1  ...  177.0                  4.44\n",
              "2                0.0              1  ...   81.0                  4.16\n",
              "3                0.0              1  ...   81.0                  4.42\n",
              "4                0.0              0  ...   52.0                  4.39\n",
              "\n",
              "[5 rows x 11 columns]"
            ]
          },
          "metadata": {},
          "execution_count": 244
        }
      ]
    },
    {
      "cell_type": "markdown",
      "source": [
        "---\n",
        "# Zadanie 5."
      ],
      "metadata": {
        "id": "tFBAEIB9KSs-"
      }
    },
    {
      "cell_type": "markdown",
      "source": [
        "Podsumowanie zmiennych numerycznych opisujących zbiór:"
      ],
      "metadata": {
        "id": "g_BfqF8lfYKg"
      }
    },
    {
      "cell_type": "code",
      "source": [
        "len(data_clean2)"
      ],
      "metadata": {
        "colab": {
          "base_uri": "https://localhost:8080/"
        },
        "id": "1VAK3hmTLYFu",
        "outputId": "369012b7-111a-4940-da00-793dd67c1d9d"
      },
      "execution_count": 245,
      "outputs": [
        {
          "output_type": "execute_result",
          "data": {
            "text/plain": [
              "4123"
            ]
          },
          "metadata": {},
          "execution_count": 245
        }
      ]
    },
    {
      "cell_type": "code",
      "source": [
        "data_clean2.describe()"
      ],
      "metadata": {
        "colab": {
          "base_uri": "https://localhost:8080/",
          "height": 300
        },
        "id": "N5IvFsQyLIpI",
        "outputId": "2b3a082f-229e-4bea-d2e6-05d319da8726"
      },
      "execution_count": 246,
      "outputs": [
        {
          "output_type": "execute_result",
          "data": {
            "text/html": [
              "\n",
              "  <div id=\"df-871e5ec8-ef59-43f4-b86e-096c6162f7ad\">\n",
              "    <div class=\"colab-df-container\">\n",
              "      <div>\n",
              "<style scoped>\n",
              "    .dataframe tbody tr th:only-of-type {\n",
              "        vertical-align: middle;\n",
              "    }\n",
              "\n",
              "    .dataframe tbody tr th {\n",
              "        vertical-align: top;\n",
              "    }\n",
              "\n",
              "    .dataframe thead th {\n",
              "        text-align: right;\n",
              "    }\n",
              "</style>\n",
              "<table border=\"1\" class=\"dataframe\">\n",
              "  <thead>\n",
              "    <tr style=\"text-align: right;\">\n",
              "      <th></th>\n",
              "      <th>host_is_superhost</th>\n",
              "      <th>neighbourhood</th>\n",
              "      <th>latitude</th>\n",
              "      <th>longitude</th>\n",
              "      <th>room_type</th>\n",
              "      <th>accommodates</th>\n",
              "      <th>bathrooms</th>\n",
              "      <th>bedrooms</th>\n",
              "      <th>beds</th>\n",
              "      <th>price</th>\n",
              "      <th>review_scores_rating</th>\n",
              "    </tr>\n",
              "  </thead>\n",
              "  <tbody>\n",
              "    <tr>\n",
              "      <th>count</th>\n",
              "      <td>4115.000000</td>\n",
              "      <td>4123.000000</td>\n",
              "      <td>4123.000000</td>\n",
              "      <td>4123.000000</td>\n",
              "      <td>4123.000000</td>\n",
              "      <td>4123.000000</td>\n",
              "      <td>4123.000000</td>\n",
              "      <td>3664.000000</td>\n",
              "      <td>3859.000000</td>\n",
              "      <td>4123.000000</td>\n",
              "      <td>2308.000000</td>\n",
              "    </tr>\n",
              "    <tr>\n",
              "      <th>mean</th>\n",
              "      <td>0.207533</td>\n",
              "      <td>0.460587</td>\n",
              "      <td>1.311544</td>\n",
              "      <td>103.845565</td>\n",
              "      <td>0.638613</td>\n",
              "      <td>2.861509</td>\n",
              "      <td>1.530439</td>\n",
              "      <td>1.325600</td>\n",
              "      <td>1.904379</td>\n",
              "      <td>182.207858</td>\n",
              "      <td>4.470273</td>\n",
              "    </tr>\n",
              "    <tr>\n",
              "      <th>std</th>\n",
              "      <td>0.405590</td>\n",
              "      <td>1.043027</td>\n",
              "      <td>0.031750</td>\n",
              "      <td>0.043030</td>\n",
              "      <td>0.756908</td>\n",
              "      <td>2.193011</td>\n",
              "      <td>1.296987</td>\n",
              "      <td>0.686948</td>\n",
              "      <td>2.508137</td>\n",
              "      <td>383.103670</td>\n",
              "      <td>0.897278</td>\n",
              "    </tr>\n",
              "    <tr>\n",
              "      <th>min</th>\n",
              "      <td>0.000000</td>\n",
              "      <td>0.000000</td>\n",
              "      <td>1.245350</td>\n",
              "      <td>103.648280</td>\n",
              "      <td>0.000000</td>\n",
              "      <td>0.000000</td>\n",
              "      <td>0.000000</td>\n",
              "      <td>1.000000</td>\n",
              "      <td>1.000000</td>\n",
              "      <td>0.000000</td>\n",
              "      <td>0.000000</td>\n",
              "    </tr>\n",
              "    <tr>\n",
              "      <th>25%</th>\n",
              "      <td>0.000000</td>\n",
              "      <td>0.000000</td>\n",
              "      <td>1.290415</td>\n",
              "      <td>103.834170</td>\n",
              "      <td>0.000000</td>\n",
              "      <td>2.000000</td>\n",
              "      <td>1.000000</td>\n",
              "      <td>1.000000</td>\n",
              "      <td>1.000000</td>\n",
              "      <td>68.000000</td>\n",
              "      <td>4.380000</td>\n",
              "    </tr>\n",
              "    <tr>\n",
              "      <th>50%</th>\n",
              "      <td>0.000000</td>\n",
              "      <td>0.000000</td>\n",
              "      <td>1.308110</td>\n",
              "      <td>103.847450</td>\n",
              "      <td>1.000000</td>\n",
              "      <td>2.000000</td>\n",
              "      <td>1.000000</td>\n",
              "      <td>1.000000</td>\n",
              "      <td>1.000000</td>\n",
              "      <td>119.000000</td>\n",
              "      <td>4.750000</td>\n",
              "    </tr>\n",
              "    <tr>\n",
              "      <th>75%</th>\n",
              "      <td>0.000000</td>\n",
              "      <td>0.000000</td>\n",
              "      <td>1.318220</td>\n",
              "      <td>103.861710</td>\n",
              "      <td>1.000000</td>\n",
              "      <td>4.000000</td>\n",
              "      <td>2.000000</td>\n",
              "      <td>1.000000</td>\n",
              "      <td>2.000000</td>\n",
              "      <td>189.000000</td>\n",
              "      <td>5.000000</td>\n",
              "    </tr>\n",
              "    <tr>\n",
              "      <th>max</th>\n",
              "      <td>1.000000</td>\n",
              "      <td>4.000000</td>\n",
              "      <td>1.453910</td>\n",
              "      <td>103.969660</td>\n",
              "      <td>3.000000</td>\n",
              "      <td>16.000000</td>\n",
              "      <td>21.000000</td>\n",
              "      <td>8.000000</td>\n",
              "      <td>58.000000</td>\n",
              "      <td>10286.000000</td>\n",
              "      <td>5.000000</td>\n",
              "    </tr>\n",
              "  </tbody>\n",
              "</table>\n",
              "</div>\n",
              "      <button class=\"colab-df-convert\" onclick=\"convertToInteractive('df-871e5ec8-ef59-43f4-b86e-096c6162f7ad')\"\n",
              "              title=\"Convert this dataframe to an interactive table.\"\n",
              "              style=\"display:none;\">\n",
              "        \n",
              "  <svg xmlns=\"http://www.w3.org/2000/svg\" height=\"24px\"viewBox=\"0 0 24 24\"\n",
              "       width=\"24px\">\n",
              "    <path d=\"M0 0h24v24H0V0z\" fill=\"none\"/>\n",
              "    <path d=\"M18.56 5.44l.94 2.06.94-2.06 2.06-.94-2.06-.94-.94-2.06-.94 2.06-2.06.94zm-11 1L8.5 8.5l.94-2.06 2.06-.94-2.06-.94L8.5 2.5l-.94 2.06-2.06.94zm10 10l.94 2.06.94-2.06 2.06-.94-2.06-.94-.94-2.06-.94 2.06-2.06.94z\"/><path d=\"M17.41 7.96l-1.37-1.37c-.4-.4-.92-.59-1.43-.59-.52 0-1.04.2-1.43.59L10.3 9.45l-7.72 7.72c-.78.78-.78 2.05 0 2.83L4 21.41c.39.39.9.59 1.41.59.51 0 1.02-.2 1.41-.59l7.78-7.78 2.81-2.81c.8-.78.8-2.07 0-2.86zM5.41 20L4 18.59l7.72-7.72 1.47 1.35L5.41 20z\"/>\n",
              "  </svg>\n",
              "      </button>\n",
              "      \n",
              "  <style>\n",
              "    .colab-df-container {\n",
              "      display:flex;\n",
              "      flex-wrap:wrap;\n",
              "      gap: 12px;\n",
              "    }\n",
              "\n",
              "    .colab-df-convert {\n",
              "      background-color: #E8F0FE;\n",
              "      border: none;\n",
              "      border-radius: 50%;\n",
              "      cursor: pointer;\n",
              "      display: none;\n",
              "      fill: #1967D2;\n",
              "      height: 32px;\n",
              "      padding: 0 0 0 0;\n",
              "      width: 32px;\n",
              "    }\n",
              "\n",
              "    .colab-df-convert:hover {\n",
              "      background-color: #E2EBFA;\n",
              "      box-shadow: 0px 1px 2px rgba(60, 64, 67, 0.3), 0px 1px 3px 1px rgba(60, 64, 67, 0.15);\n",
              "      fill: #174EA6;\n",
              "    }\n",
              "\n",
              "    [theme=dark] .colab-df-convert {\n",
              "      background-color: #3B4455;\n",
              "      fill: #D2E3FC;\n",
              "    }\n",
              "\n",
              "    [theme=dark] .colab-df-convert:hover {\n",
              "      background-color: #434B5C;\n",
              "      box-shadow: 0px 1px 3px 1px rgba(0, 0, 0, 0.15);\n",
              "      filter: drop-shadow(0px 1px 2px rgba(0, 0, 0, 0.3));\n",
              "      fill: #FFFFFF;\n",
              "    }\n",
              "  </style>\n",
              "\n",
              "      <script>\n",
              "        const buttonEl =\n",
              "          document.querySelector('#df-871e5ec8-ef59-43f4-b86e-096c6162f7ad button.colab-df-convert');\n",
              "        buttonEl.style.display =\n",
              "          google.colab.kernel.accessAllowed ? 'block' : 'none';\n",
              "\n",
              "        async function convertToInteractive(key) {\n",
              "          const element = document.querySelector('#df-871e5ec8-ef59-43f4-b86e-096c6162f7ad');\n",
              "          const dataTable =\n",
              "            await google.colab.kernel.invokeFunction('convertToInteractive',\n",
              "                                                     [key], {});\n",
              "          if (!dataTable) return;\n",
              "\n",
              "          const docLinkHtml = 'Like what you see? Visit the ' +\n",
              "            '<a target=\"_blank\" href=https://colab.research.google.com/notebooks/data_table.ipynb>data table notebook</a>'\n",
              "            + ' to learn more about interactive tables.';\n",
              "          element.innerHTML = '';\n",
              "          dataTable['output_type'] = 'display_data';\n",
              "          await google.colab.output.renderOutput(dataTable, element);\n",
              "          const docLink = document.createElement('div');\n",
              "          docLink.innerHTML = docLinkHtml;\n",
              "          element.appendChild(docLink);\n",
              "        }\n",
              "      </script>\n",
              "    </div>\n",
              "  </div>\n",
              "  "
            ],
            "text/plain": [
              "       host_is_superhost  neighbourhood  ...         price  review_scores_rating\n",
              "count        4115.000000    4123.000000  ...   4123.000000           2308.000000\n",
              "mean            0.207533       0.460587  ...    182.207858              4.470273\n",
              "std             0.405590       1.043027  ...    383.103670              0.897278\n",
              "min             0.000000       0.000000  ...      0.000000              0.000000\n",
              "25%             0.000000       0.000000  ...     68.000000              4.380000\n",
              "50%             0.000000       0.000000  ...    119.000000              4.750000\n",
              "75%             0.000000       0.000000  ...    189.000000              5.000000\n",
              "max             1.000000       4.000000  ...  10286.000000              5.000000\n",
              "\n",
              "[8 rows x 11 columns]"
            ]
          },
          "metadata": {},
          "execution_count": 246
        }
      ]
    },
    {
      "cell_type": "code",
      "source": [
        "data_clean2.median()"
      ],
      "metadata": {
        "colab": {
          "base_uri": "https://localhost:8080/"
        },
        "id": "w0YeCW2SrRvn",
        "outputId": "a779161b-4191-45c1-d878-519e8741f0d6"
      },
      "execution_count": 247,
      "outputs": [
        {
          "output_type": "execute_result",
          "data": {
            "text/plain": [
              "host_is_superhost         0.00000\n",
              "neighbourhood             0.00000\n",
              "latitude                  1.30811\n",
              "longitude               103.84745\n",
              "room_type                 1.00000\n",
              "accommodates              2.00000\n",
              "bathrooms                 1.00000\n",
              "bedrooms                  1.00000\n",
              "beds                      1.00000\n",
              "price                   119.00000\n",
              "review_scores_rating      4.75000\n",
              "dtype: float64"
            ]
          },
          "metadata": {},
          "execution_count": 247
        }
      ]
    },
    {
      "cell_type": "markdown",
      "source": [
        "Podsumowanie zmiennych kategorycznych opisujących zbiór:"
      ],
      "metadata": {
        "id": "CwIOF-m9fbtE"
      }
    },
    {
      "cell_type": "code",
      "source": [
        "data_clean2[\"host_is_superhost\"].value_counts()"
      ],
      "metadata": {
        "colab": {
          "base_uri": "https://localhost:8080/"
        },
        "id": "hL_7sGmtOvY-",
        "outputId": "93e0c54f-6faf-4130-8370-4db212c405f7"
      },
      "execution_count": 248,
      "outputs": [
        {
          "output_type": "execute_result",
          "data": {
            "text/plain": [
              "0.0    3261\n",
              "1.0     854\n",
              "Name: host_is_superhost, dtype: int64"
            ]
          },
          "metadata": {},
          "execution_count": 248
        }
      ]
    },
    {
      "cell_type": "code",
      "source": [
        "host_is_superhost_label"
      ],
      "metadata": {
        "colab": {
          "base_uri": "https://localhost:8080/"
        },
        "id": "mWqbnhlf4f-5",
        "outputId": "f11ac703-5d04-4a77-8c5e-7136fc148ad9"
      },
      "execution_count": 249,
      "outputs": [
        {
          "output_type": "execute_result",
          "data": {
            "text/plain": [
              "{0: 'false', 1: 'true'}"
            ]
          },
          "metadata": {},
          "execution_count": 249
        }
      ]
    },
    {
      "cell_type": "code",
      "source": [
        "data_clean2[\"neighbourhood\"].value_counts()"
      ],
      "metadata": {
        "colab": {
          "base_uri": "https://localhost:8080/"
        },
        "id": "cCLFYx8UOzUG",
        "outputId": "cdffe54f-1884-47aa-879d-29fb48499db8"
      },
      "execution_count": 250,
      "outputs": [
        {
          "output_type": "execute_result",
          "data": {
            "text/plain": [
              "0    3306\n",
              "3     291\n",
              "1     264\n",
              "2     143\n",
              "4     119\n",
              "Name: neighbourhood, dtype: int64"
            ]
          },
          "metadata": {},
          "execution_count": 250
        }
      ]
    },
    {
      "cell_type": "code",
      "source": [
        "neighbourhood_label"
      ],
      "metadata": {
        "colab": {
          "base_uri": "https://localhost:8080/"
        },
        "id": "Q80gsisq4ldI",
        "outputId": "d533bcaa-f6bb-4d42-e5bf-cb3183b73542"
      },
      "execution_count": 251,
      "outputs": [
        {
          "output_type": "execute_result",
          "data": {
            "text/plain": [
              "{0: 'Central Region',\n",
              " 1: 'East Region',\n",
              " 2: 'North-East Region',\n",
              " 3: 'West Region',\n",
              " 4: 'North Region'}"
            ]
          },
          "metadata": {},
          "execution_count": 251
        }
      ]
    },
    {
      "cell_type": "code",
      "source": [
        "data_clean2[\"room_type\"].value_counts()"
      ],
      "metadata": {
        "colab": {
          "base_uri": "https://localhost:8080/"
        },
        "id": "8sQt0ZUt4V_q",
        "outputId": "87b4ccc3-90fd-47da-e3d9-f18f316f4cac"
      },
      "execution_count": 252,
      "outputs": [
        {
          "output_type": "execute_result",
          "data": {
            "text/plain": [
              "0    2013\n",
              "1    1769\n",
              "3     182\n",
              "2     159\n",
              "Name: room_type, dtype: int64"
            ]
          },
          "metadata": {},
          "execution_count": 252
        }
      ]
    },
    {
      "cell_type": "code",
      "source": [
        "room_type_label"
      ],
      "metadata": {
        "colab": {
          "base_uri": "https://localhost:8080/"
        },
        "id": "foiC5DW15CdR",
        "outputId": "4d792e8d-b170-4bbf-cd13-711523ae4eb3"
      },
      "execution_count": 253,
      "outputs": [
        {
          "output_type": "execute_result",
          "data": {
            "text/plain": [
              "{0: 'Private room', 1: 'Entire home/apt', 2: 'Shared room', 3: 'Hotel room'}"
            ]
          },
          "metadata": {},
          "execution_count": 253
        }
      ]
    },
    {
      "cell_type": "markdown",
      "source": [
        "---\n",
        "# Zadanie 6."
      ],
      "metadata": {
        "id": "AqK8hB8bLGjf"
      }
    },
    {
      "cell_type": "markdown",
      "source": [
        "Ocena zbioru danych pod kątem barkujących wartości:"
      ],
      "metadata": {
        "id": "TdJ13mp0fjgP"
      }
    },
    {
      "cell_type": "code",
      "source": [
        "data_clean2.isnull().sum()"
      ],
      "metadata": {
        "colab": {
          "base_uri": "https://localhost:8080/"
        },
        "id": "OiixWuvj_lDX",
        "outputId": "2b5c9414-d1cf-466b-87a7-74d4a890f244"
      },
      "execution_count": 254,
      "outputs": [
        {
          "output_type": "execute_result",
          "data": {
            "text/plain": [
              "host_is_superhost          8\n",
              "neighbourhood              0\n",
              "latitude                   0\n",
              "longitude                  0\n",
              "room_type                  0\n",
              "accommodates               0\n",
              "bathrooms                  0\n",
              "bedrooms                 459\n",
              "beds                     264\n",
              "price                      0\n",
              "review_scores_rating    1815\n",
              "dtype: int64"
            ]
          },
          "metadata": {},
          "execution_count": 254
        }
      ]
    },
    {
      "cell_type": "markdown",
      "source": [
        "Wizualizacja brakujących danych (kolor jasny oznacza barkujące wartości, kolor czarny oznacza niebrakujące wartości)"
      ],
      "metadata": {
        "id": "Ws0TrppzfuId"
      }
    },
    {
      "cell_type": "code",
      "source": [
        "import seaborn as sns\n",
        "sns.heatmap(data_clean2.isnull(), cbar=False)"
      ],
      "metadata": {
        "colab": {
          "base_uri": "https://localhost:8080/",
          "height": 382
        },
        "id": "NHsQUSTttfM4",
        "outputId": "b047cf4c-d627-4648-fada-d27adae8d537"
      },
      "execution_count": 255,
      "outputs": [
        {
          "output_type": "execute_result",
          "data": {
            "text/plain": [
              "<matplotlib.axes._subplots.AxesSubplot at 0x7fe92df22f10>"
            ]
          },
          "metadata": {},
          "execution_count": 255
        },
        {
          "output_type": "display_data",
          "data": {
            "image/png": "[encoded data removed]",
            "text/plain": [
              "<Figure size 432x288 with 1 Axes>"
            ]
          },
          "metadata": {
            "needs_background": "light"
          }
        }
      ]
    },
    {
      "cell_type": "markdown",
      "source": [
        "Brakujące wartośc dla kolumny \"host_is_superhost\":"
      ],
      "metadata": {
        "id": "AfbsCNoEf6JY"
      }
    },
    {
      "cell_type": "code",
      "source": [
        "data_clean2_null_host_is_superhost=data_clean2[data_clean2[\"host_is_superhost\"].isnull()]"
      ],
      "metadata": {
        "id": "d1s2AGOjr6u6"
      },
      "execution_count": 256,
      "outputs": []
    },
    {
      "cell_type": "code",
      "source": [
        "data_clean2_null_host_is_superhost.head(5)"
      ],
      "metadata": {
        "colab": {
          "base_uri": "https://localhost:8080/",
          "height": 206
        },
        "id": "4CtPA34KsBHh",
        "outputId": "b80054ab-1d1a-4b54-a4d1-e59e3589f4ad"
      },
      "execution_count": 257,
      "outputs": [
        {
          "output_type": "execute_result",
          "data": {
            "text/html": [
              "\n",
              "  <div id=\"df-8fe9a3d1-553b-4d7c-9b1f-667573155c6a\">\n",
              "    <div class=\"colab-df-container\">\n",
              "      <div>\n",
              "<style scoped>\n",
              "    .dataframe tbody tr th:only-of-type {\n",
              "        vertical-align: middle;\n",
              "    }\n",
              "\n",
              "    .dataframe tbody tr th {\n",
              "        vertical-align: top;\n",
              "    }\n",
              "\n",
              "    .dataframe thead th {\n",
              "        text-align: right;\n",
              "    }\n",
              "</style>\n",
              "<table border=\"1\" class=\"dataframe\">\n",
              "  <thead>\n",
              "    <tr style=\"text-align: right;\">\n",
              "      <th></th>\n",
              "      <th>host_is_superhost</th>\n",
              "      <th>neighbourhood</th>\n",
              "      <th>latitude</th>\n",
              "      <th>longitude</th>\n",
              "      <th>room_type</th>\n",
              "      <th>accommodates</th>\n",
              "      <th>bathrooms</th>\n",
              "      <th>bedrooms</th>\n",
              "      <th>beds</th>\n",
              "      <th>price</th>\n",
              "      <th>review_scores_rating</th>\n",
              "    </tr>\n",
              "  </thead>\n",
              "  <tbody>\n",
              "    <tr>\n",
              "      <th>1965</th>\n",
              "      <td>NaN</td>\n",
              "      <td>0</td>\n",
              "      <td>1.28427</td>\n",
              "      <td>103.83279</td>\n",
              "      <td>1</td>\n",
              "      <td>6</td>\n",
              "      <td>1.0</td>\n",
              "      <td>3.0</td>\n",
              "      <td>3.0</td>\n",
              "      <td>202.0</td>\n",
              "      <td>4.38</td>\n",
              "    </tr>\n",
              "    <tr>\n",
              "      <th>1966</th>\n",
              "      <td>NaN</td>\n",
              "      <td>0</td>\n",
              "      <td>1.28153</td>\n",
              "      <td>103.83024</td>\n",
              "      <td>1</td>\n",
              "      <td>4</td>\n",
              "      <td>1.0</td>\n",
              "      <td>2.0</td>\n",
              "      <td>2.0</td>\n",
              "      <td>189.0</td>\n",
              "      <td>5.00</td>\n",
              "    </tr>\n",
              "    <tr>\n",
              "      <th>1967</th>\n",
              "      <td>NaN</td>\n",
              "      <td>0</td>\n",
              "      <td>1.28266</td>\n",
              "      <td>103.83434</td>\n",
              "      <td>1</td>\n",
              "      <td>2</td>\n",
              "      <td>1.5</td>\n",
              "      <td>1.0</td>\n",
              "      <td>1.0</td>\n",
              "      <td>150.0</td>\n",
              "      <td>4.51</td>\n",
              "    </tr>\n",
              "    <tr>\n",
              "      <th>2038</th>\n",
              "      <td>NaN</td>\n",
              "      <td>0</td>\n",
              "      <td>1.28289</td>\n",
              "      <td>103.83225</td>\n",
              "      <td>1</td>\n",
              "      <td>6</td>\n",
              "      <td>1.0</td>\n",
              "      <td>3.0</td>\n",
              "      <td>3.0</td>\n",
              "      <td>202.0</td>\n",
              "      <td>5.00</td>\n",
              "    </tr>\n",
              "    <tr>\n",
              "      <th>2473</th>\n",
              "      <td>NaN</td>\n",
              "      <td>0</td>\n",
              "      <td>1.28302</td>\n",
              "      <td>103.83199</td>\n",
              "      <td>1</td>\n",
              "      <td>3</td>\n",
              "      <td>1.0</td>\n",
              "      <td>2.0</td>\n",
              "      <td>3.0</td>\n",
              "      <td>406.0</td>\n",
              "      <td>NaN</td>\n",
              "    </tr>\n",
              "  </tbody>\n",
              "</table>\n",
              "</div>\n",
              "      <button class=\"colab-df-convert\" onclick=\"convertToInteractive('df-8fe9a3d1-553b-4d7c-9b1f-667573155c6a')\"\n",
              "              title=\"Convert this dataframe to an interactive table.\"\n",
              "              style=\"display:none;\">\n",
              "        \n",
              "  <svg xmlns=\"http://www.w3.org/2000/svg\" height=\"24px\"viewBox=\"0 0 24 24\"\n",
              "       width=\"24px\">\n",
              "    <path d=\"M0 0h24v24H0V0z\" fill=\"none\"/>\n",
              "    <path d=\"M18.56 5.44l.94 2.06.94-2.06 2.06-.94-2.06-.94-.94-2.06-.94 2.06-2.06.94zm-11 1L8.5 8.5l.94-2.06 2.06-.94-2.06-.94L8.5 2.5l-.94 2.06-2.06.94zm10 10l.94 2.06.94-2.06 2.06-.94-2.06-.94-.94-2.06-.94 2.06-2.06.94z\"/><path d=\"M17.41 7.96l-1.37-1.37c-.4-.4-.92-.59-1.43-.59-.52 0-1.04.2-1.43.59L10.3 9.45l-7.72 7.72c-.78.78-.78 2.05 0 2.83L4 21.41c.39.39.9.59 1.41.59.51 0 1.02-.2 1.41-.59l7.78-7.78 2.81-2.81c.8-.78.8-2.07 0-2.86zM5.41 20L4 18.59l7.72-7.72 1.47 1.35L5.41 20z\"/>\n",
              "  </svg>\n",
              "      </button>\n",
              "      \n",
              "  <style>\n",
              "    .colab-df-container {\n",
              "      display:flex;\n",
              "      flex-wrap:wrap;\n",
              "      gap: 12px;\n",
              "    }\n",
              "\n",
              "    .colab-df-convert {\n",
              "      background-color: #E8F0FE;\n",
              "      border: none;\n",
              "      border-radius: 50%;\n",
              "      cursor: pointer;\n",
              "      display: none;\n",
              "      fill: #1967D2;\n",
              "      height: 32px;\n",
              "      padding: 0 0 0 0;\n",
              "      width: 32px;\n",
              "    }\n",
              "\n",
              "    .colab-df-convert:hover {\n",
              "      background-color: #E2EBFA;\n",
              "      box-shadow: 0px 1px 2px rgba(60, 64, 67, 0.3), 0px 1px 3px 1px rgba(60, 64, 67, 0.15);\n",
              "      fill: #174EA6;\n",
              "    }\n",
              "\n",
              "    [theme=dark] .colab-df-convert {\n",
              "      background-color: #3B4455;\n",
              "      fill: #D2E3FC;\n",
              "    }\n",
              "\n",
              "    [theme=dark] .colab-df-convert:hover {\n",
              "      background-color: #434B5C;\n",
              "      box-shadow: 0px 1px 3px 1px rgba(0, 0, 0, 0.15);\n",
              "      filter: drop-shadow(0px 1px 2px rgba(0, 0, 0, 0.3));\n",
              "      fill: #FFFFFF;\n",
              "    }\n",
              "  </style>\n",
              "\n",
              "      <script>\n",
              "        const buttonEl =\n",
              "          document.querySelector('#df-8fe9a3d1-553b-4d7c-9b1f-667573155c6a button.colab-df-convert');\n",
              "        buttonEl.style.display =\n",
              "          google.colab.kernel.accessAllowed ? 'block' : 'none';\n",
              "\n",
              "        async function convertToInteractive(key) {\n",
              "          const element = document.querySelector('#df-8fe9a3d1-553b-4d7c-9b1f-667573155c6a');\n",
              "          const dataTable =\n",
              "            await google.colab.kernel.invokeFunction('convertToInteractive',\n",
              "                                                     [key], {});\n",
              "          if (!dataTable) return;\n",
              "\n",
              "          const docLinkHtml = 'Like what you see? Visit the ' +\n",
              "            '<a target=\"_blank\" href=https://colab.research.google.com/notebooks/data_table.ipynb>data table notebook</a>'\n",
              "            + ' to learn more about interactive tables.';\n",
              "          element.innerHTML = '';\n",
              "          dataTable['output_type'] = 'display_data';\n",
              "          await google.colab.output.renderOutput(dataTable, element);\n",
              "          const docLink = document.createElement('div');\n",
              "          docLink.innerHTML = docLinkHtml;\n",
              "          element.appendChild(docLink);\n",
              "        }\n",
              "      </script>\n",
              "    </div>\n",
              "  </div>\n",
              "  "
            ],
            "text/plain": [
              "      host_is_superhost  neighbourhood  ...  price  review_scores_rating\n",
              "1965                NaN              0  ...  202.0                  4.38\n",
              "1966                NaN              0  ...  189.0                  5.00\n",
              "1967                NaN              0  ...  150.0                  4.51\n",
              "2038                NaN              0  ...  202.0                  5.00\n",
              "2473                NaN              0  ...  406.0                   NaN\n",
              "\n",
              "[5 rows x 11 columns]"
            ]
          },
          "metadata": {},
          "execution_count": 257
        }
      ]
    },
    {
      "cell_type": "markdown",
      "source": [
        "Brakujące wartośc dla kolumny \"bedrooms\":"
      ],
      "metadata": {
        "id": "TeL3cIPsgCCp"
      }
    },
    {
      "cell_type": "code",
      "source": [
        "data_clean2_null_bedrooms=data_clean2[data_clean2[\"bedrooms\"].isnull()]"
      ],
      "metadata": {
        "id": "2Ky9tVE-ssAU"
      },
      "execution_count": 258,
      "outputs": []
    },
    {
      "cell_type": "code",
      "source": [
        "data_clean2_null_bedrooms.head(5)"
      ],
      "metadata": {
        "colab": {
          "base_uri": "https://localhost:8080/",
          "height": 206
        },
        "id": "UkWlr3CUszjv",
        "outputId": "51932c62-88e6-43fb-9f97-1ceaa18aff72"
      },
      "execution_count": 259,
      "outputs": [
        {
          "output_type": "execute_result",
          "data": {
            "text/html": [
              "\n",
              "  <div id=\"df-806c8a75-2219-4569-8e9e-5d3ebdaf0183\">\n",
              "    <div class=\"colab-df-container\">\n",
              "      <div>\n",
              "<style scoped>\n",
              "    .dataframe tbody tr th:only-of-type {\n",
              "        vertical-align: middle;\n",
              "    }\n",
              "\n",
              "    .dataframe tbody tr th {\n",
              "        vertical-align: top;\n",
              "    }\n",
              "\n",
              "    .dataframe thead th {\n",
              "        text-align: right;\n",
              "    }\n",
              "</style>\n",
              "<table border=\"1\" class=\"dataframe\">\n",
              "  <thead>\n",
              "    <tr style=\"text-align: right;\">\n",
              "      <th></th>\n",
              "      <th>host_is_superhost</th>\n",
              "      <th>neighbourhood</th>\n",
              "      <th>latitude</th>\n",
              "      <th>longitude</th>\n",
              "      <th>room_type</th>\n",
              "      <th>accommodates</th>\n",
              "      <th>bathrooms</th>\n",
              "      <th>bedrooms</th>\n",
              "      <th>beds</th>\n",
              "      <th>price</th>\n",
              "      <th>review_scores_rating</th>\n",
              "    </tr>\n",
              "  </thead>\n",
              "  <tbody>\n",
              "    <tr>\n",
              "      <th>10</th>\n",
              "      <td>0.0</td>\n",
              "      <td>0</td>\n",
              "      <td>1.28652</td>\n",
              "      <td>103.81225</td>\n",
              "      <td>0</td>\n",
              "      <td>1</td>\n",
              "      <td>2.0</td>\n",
              "      <td>NaN</td>\n",
              "      <td>1.0</td>\n",
              "      <td>49.0</td>\n",
              "      <td>4.67</td>\n",
              "    </tr>\n",
              "    <tr>\n",
              "      <th>50</th>\n",
              "      <td>0.0</td>\n",
              "      <td>1</td>\n",
              "      <td>1.32183</td>\n",
              "      <td>103.91729</td>\n",
              "      <td>1</td>\n",
              "      <td>4</td>\n",
              "      <td>1.0</td>\n",
              "      <td>NaN</td>\n",
              "      <td>2.0</td>\n",
              "      <td>185.0</td>\n",
              "      <td>5.00</td>\n",
              "    </tr>\n",
              "    <tr>\n",
              "      <th>120</th>\n",
              "      <td>1.0</td>\n",
              "      <td>0</td>\n",
              "      <td>1.31600</td>\n",
              "      <td>103.82810</td>\n",
              "      <td>1</td>\n",
              "      <td>2</td>\n",
              "      <td>1.0</td>\n",
              "      <td>NaN</td>\n",
              "      <td>1.0</td>\n",
              "      <td>174.0</td>\n",
              "      <td>4.75</td>\n",
              "    </tr>\n",
              "    <tr>\n",
              "      <th>128</th>\n",
              "      <td>0.0</td>\n",
              "      <td>2</td>\n",
              "      <td>1.38763</td>\n",
              "      <td>103.86942</td>\n",
              "      <td>1</td>\n",
              "      <td>2</td>\n",
              "      <td>1.0</td>\n",
              "      <td>NaN</td>\n",
              "      <td>2.0</td>\n",
              "      <td>106.0</td>\n",
              "      <td>4.22</td>\n",
              "    </tr>\n",
              "    <tr>\n",
              "      <th>129</th>\n",
              "      <td>1.0</td>\n",
              "      <td>0</td>\n",
              "      <td>1.29489</td>\n",
              "      <td>103.85401</td>\n",
              "      <td>0</td>\n",
              "      <td>2</td>\n",
              "      <td>1.0</td>\n",
              "      <td>NaN</td>\n",
              "      <td>1.0</td>\n",
              "      <td>164.0</td>\n",
              "      <td>4.77</td>\n",
              "    </tr>\n",
              "  </tbody>\n",
              "</table>\n",
              "</div>\n",
              "      <button class=\"colab-df-convert\" onclick=\"convertToInteractive('df-806c8a75-2219-4569-8e9e-5d3ebdaf0183')\"\n",
              "              title=\"Convert this dataframe to an interactive table.\"\n",
              "              style=\"display:none;\">\n",
              "        \n",
              "  <svg xmlns=\"http://www.w3.org/2000/svg\" height=\"24px\"viewBox=\"0 0 24 24\"\n",
              "       width=\"24px\">\n",
              "    <path d=\"M0 0h24v24H0V0z\" fill=\"none\"/>\n",
              "    <path d=\"M18.56 5.44l.94 2.06.94-2.06 2.06-.94-2.06-.94-.94-2.06-.94 2.06-2.06.94zm-11 1L8.5 8.5l.94-2.06 2.06-.94-2.06-.94L8.5 2.5l-.94 2.06-2.06.94zm10 10l.94 2.06.94-2.06 2.06-.94-2.06-.94-.94-2.06-.94 2.06-2.06.94z\"/><path d=\"M17.41 7.96l-1.37-1.37c-.4-.4-.92-.59-1.43-.59-.52 0-1.04.2-1.43.59L10.3 9.45l-7.72 7.72c-.78.78-.78 2.05 0 2.83L4 21.41c.39.39.9.59 1.41.59.51 0 1.02-.2 1.41-.59l7.78-7.78 2.81-2.81c.8-.78.8-2.07 0-2.86zM5.41 20L4 18.59l7.72-7.72 1.47 1.35L5.41 20z\"/>\n",
              "  </svg>\n",
              "      </button>\n",
              "      \n",
              "  <style>\n",
              "    .colab-df-container {\n",
              "      display:flex;\n",
              "      flex-wrap:wrap;\n",
              "      gap: 12px;\n",
              "    }\n",
              "\n",
              "    .colab-df-convert {\n",
              "      background-color: #E8F0FE;\n",
              "      border: none;\n",
              "      border-radius: 50%;\n",
              "      cursor: pointer;\n",
              "      display: none;\n",
              "      fill: #1967D2;\n",
              "      height: 32px;\n",
              "      padding: 0 0 0 0;\n",
              "      width: 32px;\n",
              "    }\n",
              "\n",
              "    .colab-df-convert:hover {\n",
              "      background-color: #E2EBFA;\n",
              "      box-shadow: 0px 1px 2px rgba(60, 64, 67, 0.3), 0px 1px 3px 1px rgba(60, 64, 67, 0.15);\n",
              "      fill: #174EA6;\n",
              "    }\n",
              "\n",
              "    [theme=dark] .colab-df-convert {\n",
              "      background-color: #3B4455;\n",
              "      fill: #D2E3FC;\n",
              "    }\n",
              "\n",
              "    [theme=dark] .colab-df-convert:hover {\n",
              "      background-color: #434B5C;\n",
              "      box-shadow: 0px 1px 3px 1px rgba(0, 0, 0, 0.15);\n",
              "      filter: drop-shadow(0px 1px 2px rgba(0, 0, 0, 0.3));\n",
              "      fill: #FFFFFF;\n",
              "    }\n",
              "  </style>\n",
              "\n",
              "      <script>\n",
              "        const buttonEl =\n",
              "          document.querySelector('#df-806c8a75-2219-4569-8e9e-5d3ebdaf0183 button.colab-df-convert');\n",
              "        buttonEl.style.display =\n",
              "          google.colab.kernel.accessAllowed ? 'block' : 'none';\n",
              "\n",
              "        async function convertToInteractive(key) {\n",
              "          const element = document.querySelector('#df-806c8a75-2219-4569-8e9e-5d3ebdaf0183');\n",
              "          const dataTable =\n",
              "            await google.colab.kernel.invokeFunction('convertToInteractive',\n",
              "                                                     [key], {});\n",
              "          if (!dataTable) return;\n",
              "\n",
              "          const docLinkHtml = 'Like what you see? Visit the ' +\n",
              "            '<a target=\"_blank\" href=https://colab.research.google.com/notebooks/data_table.ipynb>data table notebook</a>'\n",
              "            + ' to learn more about interactive tables.';\n",
              "          element.innerHTML = '';\n",
              "          dataTable['output_type'] = 'display_data';\n",
              "          await google.colab.output.renderOutput(dataTable, element);\n",
              "          const docLink = document.createElement('div');\n",
              "          docLink.innerHTML = docLinkHtml;\n",
              "          element.appendChild(docLink);\n",
              "        }\n",
              "      </script>\n",
              "    </div>\n",
              "  </div>\n",
              "  "
            ],
            "text/plain": [
              "     host_is_superhost  neighbourhood  ...  price  review_scores_rating\n",
              "10                 0.0              0  ...   49.0                  4.67\n",
              "50                 0.0              1  ...  185.0                  5.00\n",
              "120                1.0              0  ...  174.0                  4.75\n",
              "128                0.0              2  ...  106.0                  4.22\n",
              "129                1.0              0  ...  164.0                  4.77\n",
              "\n",
              "[5 rows x 11 columns]"
            ]
          },
          "metadata": {},
          "execution_count": 259
        }
      ]
    },
    {
      "cell_type": "markdown",
      "source": [
        "Brakujące wartośc dla kolumny \"beds\":"
      ],
      "metadata": {
        "id": "cvZG_6vYgFbF"
      }
    },
    {
      "cell_type": "code",
      "source": [
        "data_clean2_null_beds=data_clean2[data_clean2[\"beds\"].isnull()]"
      ],
      "metadata": {
        "id": "vpxY2QA4s83p"
      },
      "execution_count": 260,
      "outputs": []
    },
    {
      "cell_type": "code",
      "source": [
        "data_clean2_null_beds.head(5)"
      ],
      "metadata": {
        "colab": {
          "base_uri": "https://localhost:8080/",
          "height": 206
        },
        "id": "ROzjhXZOtAEw",
        "outputId": "636606ac-bc63-42fb-f139-b761f51e9205"
      },
      "execution_count": 261,
      "outputs": [
        {
          "output_type": "execute_result",
          "data": {
            "text/html": [
              "\n",
              "  <div id=\"df-0ccf6055-89e7-4ed2-8f1c-dec50e27fcaa\">\n",
              "    <div class=\"colab-df-container\">\n",
              "      <div>\n",
              "<style scoped>\n",
              "    .dataframe tbody tr th:only-of-type {\n",
              "        vertical-align: middle;\n",
              "    }\n",
              "\n",
              "    .dataframe tbody tr th {\n",
              "        vertical-align: top;\n",
              "    }\n",
              "\n",
              "    .dataframe thead th {\n",
              "        text-align: right;\n",
              "    }\n",
              "</style>\n",
              "<table border=\"1\" class=\"dataframe\">\n",
              "  <thead>\n",
              "    <tr style=\"text-align: right;\">\n",
              "      <th></th>\n",
              "      <th>host_is_superhost</th>\n",
              "      <th>neighbourhood</th>\n",
              "      <th>latitude</th>\n",
              "      <th>longitude</th>\n",
              "      <th>room_type</th>\n",
              "      <th>accommodates</th>\n",
              "      <th>bathrooms</th>\n",
              "      <th>bedrooms</th>\n",
              "      <th>beds</th>\n",
              "      <th>price</th>\n",
              "      <th>review_scores_rating</th>\n",
              "    </tr>\n",
              "  </thead>\n",
              "  <tbody>\n",
              "    <tr>\n",
              "      <th>5</th>\n",
              "      <td>0.0</td>\n",
              "      <td>0</td>\n",
              "      <td>1.28836</td>\n",
              "      <td>103.81144</td>\n",
              "      <td>0</td>\n",
              "      <td>1</td>\n",
              "      <td>0.5</td>\n",
              "      <td>1.0</td>\n",
              "      <td>NaN</td>\n",
              "      <td>40.0</td>\n",
              "      <td>4.55</td>\n",
              "    </tr>\n",
              "    <tr>\n",
              "      <th>17</th>\n",
              "      <td>0.0</td>\n",
              "      <td>2</td>\n",
              "      <td>1.36288</td>\n",
              "      <td>103.86575</td>\n",
              "      <td>0</td>\n",
              "      <td>2</td>\n",
              "      <td>1.5</td>\n",
              "      <td>1.0</td>\n",
              "      <td>NaN</td>\n",
              "      <td>80.0</td>\n",
              "      <td>4.69</td>\n",
              "    </tr>\n",
              "    <tr>\n",
              "      <th>52</th>\n",
              "      <td>0.0</td>\n",
              "      <td>0</td>\n",
              "      <td>1.30720</td>\n",
              "      <td>103.86359</td>\n",
              "      <td>0</td>\n",
              "      <td>1</td>\n",
              "      <td>3.0</td>\n",
              "      <td>1.0</td>\n",
              "      <td>NaN</td>\n",
              "      <td>59.0</td>\n",
              "      <td>4.14</td>\n",
              "    </tr>\n",
              "    <tr>\n",
              "      <th>64</th>\n",
              "      <td>0.0</td>\n",
              "      <td>0</td>\n",
              "      <td>1.31207</td>\n",
              "      <td>103.85666</td>\n",
              "      <td>0</td>\n",
              "      <td>1</td>\n",
              "      <td>2.0</td>\n",
              "      <td>1.0</td>\n",
              "      <td>NaN</td>\n",
              "      <td>49.0</td>\n",
              "      <td>3.00</td>\n",
              "    </tr>\n",
              "    <tr>\n",
              "      <th>133</th>\n",
              "      <td>1.0</td>\n",
              "      <td>0</td>\n",
              "      <td>1.34081</td>\n",
              "      <td>103.84165</td>\n",
              "      <td>0</td>\n",
              "      <td>2</td>\n",
              "      <td>2.0</td>\n",
              "      <td>1.0</td>\n",
              "      <td>NaN</td>\n",
              "      <td>76.0</td>\n",
              "      <td>4.25</td>\n",
              "    </tr>\n",
              "  </tbody>\n",
              "</table>\n",
              "</div>\n",
              "      <button class=\"colab-df-convert\" onclick=\"convertToInteractive('df-0ccf6055-89e7-4ed2-8f1c-dec50e27fcaa')\"\n",
              "              title=\"Convert this dataframe to an interactive table.\"\n",
              "              style=\"display:none;\">\n",
              "        \n",
              "  <svg xmlns=\"http://www.w3.org/2000/svg\" height=\"24px\"viewBox=\"0 0 24 24\"\n",
              "       width=\"24px\">\n",
              "    <path d=\"M0 0h24v24H0V0z\" fill=\"none\"/>\n",
              "    <path d=\"M18.56 5.44l.94 2.06.94-2.06 2.06-.94-2.06-.94-.94-2.06-.94 2.06-2.06.94zm-11 1L8.5 8.5l.94-2.06 2.06-.94-2.06-.94L8.5 2.5l-.94 2.06-2.06.94zm10 10l.94 2.06.94-2.06 2.06-.94-2.06-.94-.94-2.06-.94 2.06-2.06.94z\"/><path d=\"M17.41 7.96l-1.37-1.37c-.4-.4-.92-.59-1.43-.59-.52 0-1.04.2-1.43.59L10.3 9.45l-7.72 7.72c-.78.78-.78 2.05 0 2.83L4 21.41c.39.39.9.59 1.41.59.51 0 1.02-.2 1.41-.59l7.78-7.78 2.81-2.81c.8-.78.8-2.07 0-2.86zM5.41 20L4 18.59l7.72-7.72 1.47 1.35L5.41 20z\"/>\n",
              "  </svg>\n",
              "      </button>\n",
              "      \n",
              "  <style>\n",
              "    .colab-df-container {\n",
              "      display:flex;\n",
              "      flex-wrap:wrap;\n",
              "      gap: 12px;\n",
              "    }\n",
              "\n",
              "    .colab-df-convert {\n",
              "      background-color: #E8F0FE;\n",
              "      border: none;\n",
              "      border-radius: 50%;\n",
              "      cursor: pointer;\n",
              "      display: none;\n",
              "      fill: #1967D2;\n",
              "      height: 32px;\n",
              "      padding: 0 0 0 0;\n",
              "      width: 32px;\n",
              "    }\n",
              "\n",
              "    .colab-df-convert:hover {\n",
              "      background-color: #E2EBFA;\n",
              "      box-shadow: 0px 1px 2px rgba(60, 64, 67, 0.3), 0px 1px 3px 1px rgba(60, 64, 67, 0.15);\n",
              "      fill: #174EA6;\n",
              "    }\n",
              "\n",
              "    [theme=dark] .colab-df-convert {\n",
              "      background-color: #3B4455;\n",
              "      fill: #D2E3FC;\n",
              "    }\n",
              "\n",
              "    [theme=dark] .colab-df-convert:hover {\n",
              "      background-color: #434B5C;\n",
              "      box-shadow: 0px 1px 3px 1px rgba(0, 0, 0, 0.15);\n",
              "      filter: drop-shadow(0px 1px 2px rgba(0, 0, 0, 0.3));\n",
              "      fill: #FFFFFF;\n",
              "    }\n",
              "  </style>\n",
              "\n",
              "      <script>\n",
              "        const buttonEl =\n",
              "          document.querySelector('#df-0ccf6055-89e7-4ed2-8f1c-dec50e27fcaa button.colab-df-convert');\n",
              "        buttonEl.style.display =\n",
              "          google.colab.kernel.accessAllowed ? 'block' : 'none';\n",
              "\n",
              "        async function convertToInteractive(key) {\n",
              "          const element = document.querySelector('#df-0ccf6055-89e7-4ed2-8f1c-dec50e27fcaa');\n",
              "          const dataTable =\n",
              "            await google.colab.kernel.invokeFunction('convertToInteractive',\n",
              "                                                     [key], {});\n",
              "          if (!dataTable) return;\n",
              "\n",
              "          const docLinkHtml = 'Like what you see? Visit the ' +\n",
              "            '<a target=\"_blank\" href=https://colab.research.google.com/notebooks/data_table.ipynb>data table notebook</a>'\n",
              "            + ' to learn more about interactive tables.';\n",
              "          element.innerHTML = '';\n",
              "          dataTable['output_type'] = 'display_data';\n",
              "          await google.colab.output.renderOutput(dataTable, element);\n",
              "          const docLink = document.createElement('div');\n",
              "          docLink.innerHTML = docLinkHtml;\n",
              "          element.appendChild(docLink);\n",
              "        }\n",
              "      </script>\n",
              "    </div>\n",
              "  </div>\n",
              "  "
            ],
            "text/plain": [
              "     host_is_superhost  neighbourhood  ...  price  review_scores_rating\n",
              "5                  0.0              0  ...   40.0                  4.55\n",
              "17                 0.0              2  ...   80.0                  4.69\n",
              "52                 0.0              0  ...   59.0                  4.14\n",
              "64                 0.0              0  ...   49.0                  3.00\n",
              "133                1.0              0  ...   76.0                  4.25\n",
              "\n",
              "[5 rows x 11 columns]"
            ]
          },
          "metadata": {},
          "execution_count": 261
        }
      ]
    },
    {
      "cell_type": "markdown",
      "source": [
        "Brakujące wartośc dla kolumny \"review_scores_rating\":"
      ],
      "metadata": {
        "id": "eiP_1wsFgH54"
      }
    },
    {
      "cell_type": "code",
      "source": [
        "data_clean2_null_beds=data_clean2[data_clean2[\"review_scores_rating\"].isnull()]"
      ],
      "metadata": {
        "id": "nEclrg3htKlY"
      },
      "execution_count": 262,
      "outputs": []
    },
    {
      "cell_type": "code",
      "source": [
        "data_clean2_null_beds.head(5)"
      ],
      "metadata": {
        "colab": {
          "base_uri": "https://localhost:8080/",
          "height": 206
        },
        "id": "INfjS9K4t37K",
        "outputId": "2f723771-00d1-4f66-e8a9-c300d0257536"
      },
      "execution_count": 263,
      "outputs": [
        {
          "output_type": "execute_result",
          "data": {
            "text/html": [
              "\n",
              "  <div id=\"df-0d24a8e8-2799-4cf4-8bfc-7e432869c830\">\n",
              "    <div class=\"colab-df-container\">\n",
              "      <div>\n",
              "<style scoped>\n",
              "    .dataframe tbody tr th:only-of-type {\n",
              "        vertical-align: middle;\n",
              "    }\n",
              "\n",
              "    .dataframe tbody tr th {\n",
              "        vertical-align: top;\n",
              "    }\n",
              "\n",
              "    .dataframe thead th {\n",
              "        text-align: right;\n",
              "    }\n",
              "</style>\n",
              "<table border=\"1\" class=\"dataframe\">\n",
              "  <thead>\n",
              "    <tr style=\"text-align: right;\">\n",
              "      <th></th>\n",
              "      <th>host_is_superhost</th>\n",
              "      <th>neighbourhood</th>\n",
              "      <th>latitude</th>\n",
              "      <th>longitude</th>\n",
              "      <th>room_type</th>\n",
              "      <th>accommodates</th>\n",
              "      <th>bathrooms</th>\n",
              "      <th>bedrooms</th>\n",
              "      <th>beds</th>\n",
              "      <th>price</th>\n",
              "      <th>review_scores_rating</th>\n",
              "    </tr>\n",
              "  </thead>\n",
              "  <tbody>\n",
              "    <tr>\n",
              "      <th>13</th>\n",
              "      <td>0.0</td>\n",
              "      <td>0</td>\n",
              "      <td>1.31374</td>\n",
              "      <td>103.90190</td>\n",
              "      <td>0</td>\n",
              "      <td>2</td>\n",
              "      <td>1.0</td>\n",
              "      <td>1.0</td>\n",
              "      <td>1.0</td>\n",
              "      <td>65.0</td>\n",
              "      <td>NaN</td>\n",
              "    </tr>\n",
              "    <tr>\n",
              "      <th>18</th>\n",
              "      <td>0.0</td>\n",
              "      <td>1</td>\n",
              "      <td>1.34510</td>\n",
              "      <td>103.95647</td>\n",
              "      <td>0</td>\n",
              "      <td>2</td>\n",
              "      <td>1.0</td>\n",
              "      <td>1.0</td>\n",
              "      <td>1.0</td>\n",
              "      <td>94.0</td>\n",
              "      <td>NaN</td>\n",
              "    </tr>\n",
              "    <tr>\n",
              "      <th>19</th>\n",
              "      <td>0.0</td>\n",
              "      <td>1</td>\n",
              "      <td>1.34816</td>\n",
              "      <td>103.93238</td>\n",
              "      <td>0</td>\n",
              "      <td>2</td>\n",
              "      <td>1.0</td>\n",
              "      <td>1.0</td>\n",
              "      <td>1.0</td>\n",
              "      <td>37.0</td>\n",
              "      <td>NaN</td>\n",
              "    </tr>\n",
              "    <tr>\n",
              "      <th>22</th>\n",
              "      <td>0.0</td>\n",
              "      <td>0</td>\n",
              "      <td>1.30096</td>\n",
              "      <td>103.85206</td>\n",
              "      <td>0</td>\n",
              "      <td>2</td>\n",
              "      <td>2.0</td>\n",
              "      <td>1.0</td>\n",
              "      <td>1.0</td>\n",
              "      <td>162.0</td>\n",
              "      <td>NaN</td>\n",
              "    </tr>\n",
              "    <tr>\n",
              "      <th>24</th>\n",
              "      <td>0.0</td>\n",
              "      <td>2</td>\n",
              "      <td>1.36926</td>\n",
              "      <td>103.87312</td>\n",
              "      <td>0</td>\n",
              "      <td>1</td>\n",
              "      <td>1.0</td>\n",
              "      <td>1.0</td>\n",
              "      <td>1.0</td>\n",
              "      <td>26.0</td>\n",
              "      <td>NaN</td>\n",
              "    </tr>\n",
              "  </tbody>\n",
              "</table>\n",
              "</div>\n",
              "      <button class=\"colab-df-convert\" onclick=\"convertToInteractive('df-0d24a8e8-2799-4cf4-8bfc-7e432869c830')\"\n",
              "              title=\"Convert this dataframe to an interactive table.\"\n",
              "              style=\"display:none;\">\n",
              "        \n",
              "  <svg xmlns=\"http://www.w3.org/2000/svg\" height=\"24px\"viewBox=\"0 0 24 24\"\n",
              "       width=\"24px\">\n",
              "    <path d=\"M0 0h24v24H0V0z\" fill=\"none\"/>\n",
              "    <path d=\"M18.56 5.44l.94 2.06.94-2.06 2.06-.94-2.06-.94-.94-2.06-.94 2.06-2.06.94zm-11 1L8.5 8.5l.94-2.06 2.06-.94-2.06-.94L8.5 2.5l-.94 2.06-2.06.94zm10 10l.94 2.06.94-2.06 2.06-.94-2.06-.94-.94-2.06-.94 2.06-2.06.94z\"/><path d=\"M17.41 7.96l-1.37-1.37c-.4-.4-.92-.59-1.43-.59-.52 0-1.04.2-1.43.59L10.3 9.45l-7.72 7.72c-.78.78-.78 2.05 0 2.83L4 21.41c.39.39.9.59 1.41.59.51 0 1.02-.2 1.41-.59l7.78-7.78 2.81-2.81c.8-.78.8-2.07 0-2.86zM5.41 20L4 18.59l7.72-7.72 1.47 1.35L5.41 20z\"/>\n",
              "  </svg>\n",
              "      </button>\n",
              "      \n",
              "  <style>\n",
              "    .colab-df-container {\n",
              "      display:flex;\n",
              "      flex-wrap:wrap;\n",
              "      gap: 12px;\n",
              "    }\n",
              "\n",
              "    .colab-df-convert {\n",
              "      background-color: #E8F0FE;\n",
              "      border: none;\n",
              "      border-radius: 50%;\n",
              "      cursor: pointer;\n",
              "      display: none;\n",
              "      fill: #1967D2;\n",
              "      height: 32px;\n",
              "      padding: 0 0 0 0;\n",
              "      width: 32px;\n",
              "    }\n",
              "\n",
              "    .colab-df-convert:hover {\n",
              "      background-color: #E2EBFA;\n",
              "      box-shadow: 0px 1px 2px rgba(60, 64, 67, 0.3), 0px 1px 3px 1px rgba(60, 64, 67, 0.15);\n",
              "      fill: #174EA6;\n",
              "    }\n",
              "\n",
              "    [theme=dark] .colab-df-convert {\n",
              "      background-color: #3B4455;\n",
              "      fill: #D2E3FC;\n",
              "    }\n",
              "\n",
              "    [theme=dark] .colab-df-convert:hover {\n",
              "      background-color: #434B5C;\n",
              "      box-shadow: 0px 1px 3px 1px rgba(0, 0, 0, 0.15);\n",
              "      filter: drop-shadow(0px 1px 2px rgba(0, 0, 0, 0.3));\n",
              "      fill: #FFFFFF;\n",
              "    }\n",
              "  </style>\n",
              "\n",
              "      <script>\n",
              "        const buttonEl =\n",
              "          document.querySelector('#df-0d24a8e8-2799-4cf4-8bfc-7e432869c830 button.colab-df-convert');\n",
              "        buttonEl.style.display =\n",
              "          google.colab.kernel.accessAllowed ? 'block' : 'none';\n",
              "\n",
              "        async function convertToInteractive(key) {\n",
              "          const element = document.querySelector('#df-0d24a8e8-2799-4cf4-8bfc-7e432869c830');\n",
              "          const dataTable =\n",
              "            await google.colab.kernel.invokeFunction('convertToInteractive',\n",
              "                                                     [key], {});\n",
              "          if (!dataTable) return;\n",
              "\n",
              "          const docLinkHtml = 'Like what you see? Visit the ' +\n",
              "            '<a target=\"_blank\" href=https://colab.research.google.com/notebooks/data_table.ipynb>data table notebook</a>'\n",
              "            + ' to learn more about interactive tables.';\n",
              "          element.innerHTML = '';\n",
              "          dataTable['output_type'] = 'display_data';\n",
              "          await google.colab.output.renderOutput(dataTable, element);\n",
              "          const docLink = document.createElement('div');\n",
              "          docLink.innerHTML = docLinkHtml;\n",
              "          element.appendChild(docLink);\n",
              "        }\n",
              "      </script>\n",
              "    </div>\n",
              "  </div>\n",
              "  "
            ],
            "text/plain": [
              "    host_is_superhost  neighbourhood  ...  price  review_scores_rating\n",
              "13                0.0              0  ...   65.0                   NaN\n",
              "18                0.0              1  ...   94.0                   NaN\n",
              "19                0.0              1  ...   37.0                   NaN\n",
              "22                0.0              0  ...  162.0                   NaN\n",
              "24                0.0              2  ...   26.0                   NaN\n",
              "\n",
              "[5 rows x 11 columns]"
            ]
          },
          "metadata": {},
          "execution_count": 263
        }
      ]
    },
    {
      "cell_type": "markdown",
      "source": [
        "WNIOSEK: Barkujace wartości występują losowo, gdzie pozostałe kolumny zawierają przydatne informacje. Usuwanie całych wierzy z barkującymi danymi przyniosłoby zbyt duża utratę wartościowych informacji."
      ],
      "metadata": {
        "id": "Af28gHbpgMMl"
      }
    },
    {
      "cell_type": "markdown",
      "source": [
        "---\n",
        "# Zadanie 7.\n"
      ],
      "metadata": {
        "id": "xxFkMZ_nuEwx"
      }
    },
    {
      "cell_type": "markdown",
      "source": [
        "Wizualizacja rozkładu danych (histogramy)"
      ],
      "metadata": {
        "id": "RWlivnQSgiUm"
      }
    },
    {
      "cell_type": "code",
      "source": [
        "data_clean2.columns"
      ],
      "metadata": {
        "colab": {
          "base_uri": "https://localhost:8080/"
        },
        "id": "rwrVmrHEuoGF",
        "outputId": "d85802a0-30d7-4747-8b95-83fcd120cf86"
      },
      "execution_count": 264,
      "outputs": [
        {
          "output_type": "execute_result",
          "data": {
            "text/plain": [
              "Index(['host_is_superhost', 'neighbourhood', 'latitude', 'longitude',\n",
              "       'room_type', 'accommodates', 'bathrooms', 'bedrooms', 'beds', 'price',\n",
              "       'review_scores_rating'],\n",
              "      dtype='object')"
            ]
          },
          "metadata": {},
          "execution_count": 264
        }
      ]
    },
    {
      "cell_type": "code",
      "source": [
        "data_clean2.hist(bins=50,figsize=(20, 20))"
      ],
      "metadata": {
        "colab": {
          "base_uri": "https://localhost:8080/",
          "height": 1000
        },
        "id": "W89ndi5q_0yY",
        "outputId": "a917cbfa-84a8-48f3-c642-349dfd4a05d6"
      },
      "execution_count": 265,
      "outputs": [
        {
          "output_type": "execute_result",
          "data": {
            "text/plain": [
              "array([[<matplotlib.axes._subplots.AxesSubplot object at 0x7fe928561dd0>,\n",
              "        <matplotlib.axes._subplots.AxesSubplot object at 0x7fe9285a2390>,\n",
              "        <matplotlib.axes._subplots.AxesSubplot object at 0x7fe9286887d0>],\n",
              "       [<matplotlib.axes._subplots.AxesSubplot object at 0x7fe928645cd0>,\n",
              "        <matplotlib.axes._subplots.AxesSubplot object at 0x7fe928608210>,\n",
              "        <matplotlib.axes._subplots.AxesSubplot object at 0x7fe92853e690>],\n",
              "       [<matplotlib.axes._subplots.AxesSubplot object at 0x7fe9297021d0>,\n",
              "        <matplotlib.axes._subplots.AxesSubplot object at 0x7fe92a804c50>,\n",
              "        <matplotlib.axes._subplots.AxesSubplot object at 0x7fe92962b990>],\n",
              "       [<matplotlib.axes._subplots.AxesSubplot object at 0x7fe929810a90>,\n",
              "        <matplotlib.axes._subplots.AxesSubplot object at 0x7fe928429210>,\n",
              "        <matplotlib.axes._subplots.AxesSubplot object at 0x7fe928459810>]],\n",
              "      dtype=object)"
            ]
          },
          "metadata": {},
          "execution_count": 265
        },
        {
          "output_type": "display_data",
          "data": {
            "image/png": "[encoded data removed]",
            "text/plain": [
              "<Figure size 1440x1440 with 12 Axes>"
            ]
          },
          "metadata": {
            "needs_background": "light"
          }
        }
      ]
    },
    {
      "cell_type": "markdown",
      "source": [
        "Charakteryzacja danych pod względem parametrów skew i kurtosis."
      ],
      "metadata": {
        "id": "LvcBb-AGgqg7"
      }
    },
    {
      "cell_type": "code",
      "source": [
        "data_clean2.skew()"
      ],
      "metadata": {
        "colab": {
          "base_uri": "https://localhost:8080/"
        },
        "id": "tM6jEiqTDK8j",
        "outputId": "705c7c6c-a6e1-4e8f-bf3f-996fb208d0bb"
      },
      "execution_count": 266,
      "outputs": [
        {
          "output_type": "execute_result",
          "data": {
            "text/plain": [
              "host_is_superhost        1.442880\n",
              "neighbourhood            2.199315\n",
              "latitude                 1.868353\n",
              "longitude               -0.652242\n",
              "room_type                1.319201\n",
              "accommodates             2.638904\n",
              "bathrooms                5.870471\n",
              "bedrooms                 2.534642\n",
              "beds                     9.140046\n",
              "price                   14.909656\n",
              "review_scores_rating    -3.501535\n",
              "dtype: float64"
            ]
          },
          "metadata": {},
          "execution_count": 266
        }
      ]
    },
    {
      "cell_type": "code",
      "source": [
        "data_clean2.kurtosis()"
      ],
      "metadata": {
        "colab": {
          "base_uri": "https://localhost:8080/"
        },
        "id": "hzMrSJPHDZJo",
        "outputId": "44be1188-14f3-4f77-d1f4-5f7a0f2d8c38"
      },
      "execution_count": 267,
      "outputs": [
        {
          "output_type": "execute_result",
          "data": {
            "text/plain": [
              "host_is_superhost         0.081941\n",
              "neighbourhood             3.515558\n",
              "latitude                  4.618345\n",
              "longitude                 1.832213\n",
              "room_type                 1.861077\n",
              "accommodates             10.416812\n",
              "bathrooms                54.775567\n",
              "bedrooms                  8.518869\n",
              "beds                    132.270053\n",
              "price                   297.765502\n",
              "review_scores_rating     13.630062\n",
              "dtype: float64"
            ]
          },
          "metadata": {},
          "execution_count": 267
        }
      ]
    },
    {
      "cell_type": "code",
      "source": [
        "data_clean2.agg(['kurtosis', 'skew']).T"
      ],
      "metadata": {
        "colab": {
          "base_uri": "https://localhost:8080/",
          "height": 394
        },
        "id": "x-Xw3OEYDeRZ",
        "outputId": "ae97bac1-7d8e-4ab2-f043-4c979a99c4e9"
      },
      "execution_count": 268,
      "outputs": [
        {
          "output_type": "execute_result",
          "data": {
            "text/html": [
              "\n",
              "  <div id=\"df-6fbda0b9-12c7-476f-a796-2eb39b73d055\">\n",
              "    <div class=\"colab-df-container\">\n",
              "      <div>\n",
              "<style scoped>\n",
              "    .dataframe tbody tr th:only-of-type {\n",
              "        vertical-align: middle;\n",
              "    }\n",
              "\n",
              "    .dataframe tbody tr th {\n",
              "        vertical-align: top;\n",
              "    }\n",
              "\n",
              "    .dataframe thead th {\n",
              "        text-align: right;\n",
              "    }\n",
              "</style>\n",
              "<table border=\"1\" class=\"dataframe\">\n",
              "  <thead>\n",
              "    <tr style=\"text-align: right;\">\n",
              "      <th></th>\n",
              "      <th>kurtosis</th>\n",
              "      <th>skew</th>\n",
              "    </tr>\n",
              "  </thead>\n",
              "  <tbody>\n",
              "    <tr>\n",
              "      <th>host_is_superhost</th>\n",
              "      <td>0.081941</td>\n",
              "      <td>1.442880</td>\n",
              "    </tr>\n",
              "    <tr>\n",
              "      <th>neighbourhood</th>\n",
              "      <td>3.515558</td>\n",
              "      <td>2.199315</td>\n",
              "    </tr>\n",
              "    <tr>\n",
              "      <th>latitude</th>\n",
              "      <td>4.618345</td>\n",
              "      <td>1.868353</td>\n",
              "    </tr>\n",
              "    <tr>\n",
              "      <th>longitude</th>\n",
              "      <td>1.832213</td>\n",
              "      <td>-0.652242</td>\n",
              "    </tr>\n",
              "    <tr>\n",
              "      <th>room_type</th>\n",
              "      <td>1.861077</td>\n",
              "      <td>1.319201</td>\n",
              "    </tr>\n",
              "    <tr>\n",
              "      <th>accommodates</th>\n",
              "      <td>10.416812</td>\n",
              "      <td>2.638904</td>\n",
              "    </tr>\n",
              "    <tr>\n",
              "      <th>bathrooms</th>\n",
              "      <td>54.775567</td>\n",
              "      <td>5.870471</td>\n",
              "    </tr>\n",
              "    <tr>\n",
              "      <th>bedrooms</th>\n",
              "      <td>8.518869</td>\n",
              "      <td>2.534642</td>\n",
              "    </tr>\n",
              "    <tr>\n",
              "      <th>beds</th>\n",
              "      <td>132.270053</td>\n",
              "      <td>9.140046</td>\n",
              "    </tr>\n",
              "    <tr>\n",
              "      <th>price</th>\n",
              "      <td>297.765502</td>\n",
              "      <td>14.909656</td>\n",
              "    </tr>\n",
              "    <tr>\n",
              "      <th>review_scores_rating</th>\n",
              "      <td>13.630062</td>\n",
              "      <td>-3.501535</td>\n",
              "    </tr>\n",
              "  </tbody>\n",
              "</table>\n",
              "</div>\n",
              "      <button class=\"colab-df-convert\" onclick=\"convertToInteractive('df-6fbda0b9-12c7-476f-a796-2eb39b73d055')\"\n",
              "              title=\"Convert this dataframe to an interactive table.\"\n",
              "              style=\"display:none;\">\n",
              "        \n",
              "  <svg xmlns=\"http://www.w3.org/2000/svg\" height=\"24px\"viewBox=\"0 0 24 24\"\n",
              "       width=\"24px\">\n",
              "    <path d=\"M0 0h24v24H0V0z\" fill=\"none\"/>\n",
              "    <path d=\"M18.56 5.44l.94 2.06.94-2.06 2.06-.94-2.06-.94-.94-2.06-.94 2.06-2.06.94zm-11 1L8.5 8.5l.94-2.06 2.06-.94-2.06-.94L8.5 2.5l-.94 2.06-2.06.94zm10 10l.94 2.06.94-2.06 2.06-.94-2.06-.94-.94-2.06-.94 2.06-2.06.94z\"/><path d=\"M17.41 7.96l-1.37-1.37c-.4-.4-.92-.59-1.43-.59-.52 0-1.04.2-1.43.59L10.3 9.45l-7.72 7.72c-.78.78-.78 2.05 0 2.83L4 21.41c.39.39.9.59 1.41.59.51 0 1.02-.2 1.41-.59l7.78-7.78 2.81-2.81c.8-.78.8-2.07 0-2.86zM5.41 20L4 18.59l7.72-7.72 1.47 1.35L5.41 20z\"/>\n",
              "  </svg>\n",
              "      </button>\n",
              "      \n",
              "  <style>\n",
              "    .colab-df-container {\n",
              "      display:flex;\n",
              "      flex-wrap:wrap;\n",
              "      gap: 12px;\n",
              "    }\n",
              "\n",
              "    .colab-df-convert {\n",
              "      background-color: #E8F0FE;\n",
              "      border: none;\n",
              "      border-radius: 50%;\n",
              "      cursor: pointer;\n",
              "      display: none;\n",
              "      fill: #1967D2;\n",
              "      height: 32px;\n",
              "      padding: 0 0 0 0;\n",
              "      width: 32px;\n",
              "    }\n",
              "\n",
              "    .colab-df-convert:hover {\n",
              "      background-color: #E2EBFA;\n",
              "      box-shadow: 0px 1px 2px rgba(60, 64, 67, 0.3), 0px 1px 3px 1px rgba(60, 64, 67, 0.15);\n",
              "      fill: #174EA6;\n",
              "    }\n",
              "\n",
              "    [theme=dark] .colab-df-convert {\n",
              "      background-color: #3B4455;\n",
              "      fill: #D2E3FC;\n",
              "    }\n",
              "\n",
              "    [theme=dark] .colab-df-convert:hover {\n",
              "      background-color: #434B5C;\n",
              "      box-shadow: 0px 1px 3px 1px rgba(0, 0, 0, 0.15);\n",
              "      filter: drop-shadow(0px 1px 2px rgba(0, 0, 0, 0.3));\n",
              "      fill: #FFFFFF;\n",
              "    }\n",
              "  </style>\n",
              "\n",
              "      <script>\n",
              "        const buttonEl =\n",
              "          document.querySelector('#df-6fbda0b9-12c7-476f-a796-2eb39b73d055 button.colab-df-convert');\n",
              "        buttonEl.style.display =\n",
              "          google.colab.kernel.accessAllowed ? 'block' : 'none';\n",
              "\n",
              "        async function convertToInteractive(key) {\n",
              "          const element = document.querySelector('#df-6fbda0b9-12c7-476f-a796-2eb39b73d055');\n",
              "          const dataTable =\n",
              "            await google.colab.kernel.invokeFunction('convertToInteractive',\n",
              "                                                     [key], {});\n",
              "          if (!dataTable) return;\n",
              "\n",
              "          const docLinkHtml = 'Like what you see? Visit the ' +\n",
              "            '<a target=\"_blank\" href=https://colab.research.google.com/notebooks/data_table.ipynb>data table notebook</a>'\n",
              "            + ' to learn more about interactive tables.';\n",
              "          element.innerHTML = '';\n",
              "          dataTable['output_type'] = 'display_data';\n",
              "          await google.colab.output.renderOutput(dataTable, element);\n",
              "          const docLink = document.createElement('div');\n",
              "          docLink.innerHTML = docLinkHtml;\n",
              "          element.appendChild(docLink);\n",
              "        }\n",
              "      </script>\n",
              "    </div>\n",
              "  </div>\n",
              "  "
            ],
            "text/plain": [
              "                        kurtosis       skew\n",
              "host_is_superhost       0.081941   1.442880\n",
              "neighbourhood           3.515558   2.199315\n",
              "latitude                4.618345   1.868353\n",
              "longitude               1.832213  -0.652242\n",
              "room_type               1.861077   1.319201\n",
              "accommodates           10.416812   2.638904\n",
              "bathrooms              54.775567   5.870471\n",
              "bedrooms                8.518869   2.534642\n",
              "beds                  132.270053   9.140046\n",
              "price                 297.765502  14.909656\n",
              "review_scores_rating   13.630062  -3.501535"
            ]
          },
          "metadata": {},
          "execution_count": 268
        }
      ]
    },
    {
      "cell_type": "markdown",
      "source": [
        "Wniosek: Wszystkie dane przedstawiaja rozkład oddalony od rozkładu normalnego."
      ],
      "metadata": {
        "id": "jmgwwNuIg4HX"
      }
    },
    {
      "cell_type": "markdown",
      "source": [
        "---\n",
        "# Zadanie 8."
      ],
      "metadata": {
        "id": "MDPrXuCyD2EJ"
      }
    },
    {
      "cell_type": "markdown",
      "source": [
        "Proces czyszczenia danych:"
      ],
      "metadata": {
        "id": "rIR-WMUqhEmB"
      }
    },
    {
      "cell_type": "code",
      "source": [
        "data_clean2.isnull().sum()"
      ],
      "metadata": {
        "colab": {
          "base_uri": "https://localhost:8080/"
        },
        "id": "oj171nz_EdLn",
        "outputId": "e67eb981-1874-4547-b99b-6b8a7ad4f0d9"
      },
      "execution_count": 269,
      "outputs": [
        {
          "output_type": "execute_result",
          "data": {
            "text/plain": [
              "host_is_superhost          8\n",
              "neighbourhood              0\n",
              "latitude                   0\n",
              "longitude                  0\n",
              "room_type                  0\n",
              "accommodates               0\n",
              "bathrooms                  0\n",
              "bedrooms                 459\n",
              "beds                     264\n",
              "price                      0\n",
              "review_scores_rating    1815\n",
              "dtype: int64"
            ]
          },
          "metadata": {},
          "execution_count": 269
        }
      ]
    },
    {
      "cell_type": "markdown",
      "source": [
        "**host_is_superhost**          "
      ],
      "metadata": {
        "id": "kyueoRESo5IH"
      }
    },
    {
      "cell_type": "markdown",
      "source": [
        "Zastępowanie wartości brakujący w \"host_is_superhost\" wartościami 0 - false."
      ],
      "metadata": {
        "id": "AOBcG32LhJxw"
      }
    },
    {
      "cell_type": "code",
      "source": [
        "data_clean2.host_is_superhost.median()"
      ],
      "metadata": {
        "colab": {
          "base_uri": "https://localhost:8080/"
        },
        "id": "hAOZ8DHYho17",
        "outputId": "080addf7-bbf6-4e87-c3cc-a1e43397a20a"
      },
      "execution_count": 270,
      "outputs": [
        {
          "output_type": "execute_result",
          "data": {
            "text/plain": [
              "0.0"
            ]
          },
          "metadata": {},
          "execution_count": 270
        }
      ]
    },
    {
      "cell_type": "code",
      "source": [
        "data_clean2.host_is_superhost.mean()"
      ],
      "metadata": {
        "colab": {
          "base_uri": "https://localhost:8080/"
        },
        "id": "cEWNBJAOiNEN",
        "outputId": "65251a03-ed79-4a3f-d132-f60934cf548f"
      },
      "execution_count": 271,
      "outputs": [
        {
          "output_type": "execute_result",
          "data": {
            "text/plain": [
              "0.20753341433778857"
            ]
          },
          "metadata": {},
          "execution_count": 271
        }
      ]
    },
    {
      "cell_type": "code",
      "source": [
        "data_clean2.host_is_superhost.fillna(0, inplace=True)"
      ],
      "metadata": {
        "id": "R4vt3X0WE7gI"
      },
      "execution_count": 272,
      "outputs": []
    },
    {
      "cell_type": "code",
      "source": [
        "data_clean2.host_is_superhost.median()"
      ],
      "metadata": {
        "colab": {
          "base_uri": "https://localhost:8080/"
        },
        "id": "HXHbadlahtkv",
        "outputId": "290f11aa-d356-4933-9840-3d79a6f22832"
      },
      "execution_count": 273,
      "outputs": [
        {
          "output_type": "execute_result",
          "data": {
            "text/plain": [
              "0.0"
            ]
          },
          "metadata": {},
          "execution_count": 273
        }
      ]
    },
    {
      "cell_type": "code",
      "source": [
        "data_clean2.host_is_superhost.mean()"
      ],
      "metadata": {
        "colab": {
          "base_uri": "https://localhost:8080/"
        },
        "id": "cifVowILh5z5",
        "outputId": "cd65523c-d64e-4bb0-9d77-561ff7f1b4f0"
      },
      "execution_count": 274,
      "outputs": [
        {
          "output_type": "execute_result",
          "data": {
            "text/plain": [
              "0.2071307300509338"
            ]
          },
          "metadata": {},
          "execution_count": 274
        }
      ]
    },
    {
      "cell_type": "markdown",
      "source": [
        "WNIOSEK: Mały wpływ czyszczenia danych na paramtery MEAN i MEDIAN"
      ],
      "metadata": {
        "id": "uWw83nkvidAv"
      }
    },
    {
      "cell_type": "markdown",
      "source": [
        "**BEDROOMS**"
      ],
      "metadata": {
        "id": "fioKdnDMo_FH"
      }
    },
    {
      "cell_type": "markdown",
      "source": [
        "Zastępowanie wartości brakujący  mediana\n",
        "\n"
      ],
      "metadata": {
        "id": "SCZDNTrgiiLU"
      }
    },
    {
      "cell_type": "code",
      "source": [
        "data_clean2.bedrooms.median()"
      ],
      "metadata": {
        "colab": {
          "base_uri": "https://localhost:8080/"
        },
        "id": "kg1iETmPFn24",
        "outputId": "54f6a9de-164b-42df-b988-2a080af1c26c"
      },
      "execution_count": 275,
      "outputs": [
        {
          "output_type": "execute_result",
          "data": {
            "text/plain": [
              "1.0"
            ]
          },
          "metadata": {},
          "execution_count": 275
        }
      ]
    },
    {
      "cell_type": "code",
      "source": [
        "data_clean2.bedrooms.mean()"
      ],
      "metadata": {
        "colab": {
          "base_uri": "https://localhost:8080/"
        },
        "id": "uYY7kw6GinVv",
        "outputId": "88930482-ddd3-4827-ca89-383f2ef64822"
      },
      "execution_count": 276,
      "outputs": [
        {
          "output_type": "execute_result",
          "data": {
            "text/plain": [
              "1.3256004366812226"
            ]
          },
          "metadata": {},
          "execution_count": 276
        }
      ]
    },
    {
      "cell_type": "code",
      "source": [
        "data_clean2.bedrooms.fillna(data_clean2.bedrooms.median(), inplace=True)"
      ],
      "metadata": {
        "id": "_z9cB6gTFyeI"
      },
      "execution_count": 277,
      "outputs": []
    },
    {
      "cell_type": "code",
      "source": [
        "data_clean2.bedrooms.median()"
      ],
      "metadata": {
        "colab": {
          "base_uri": "https://localhost:8080/"
        },
        "id": "nOmohA7lF-Tf",
        "outputId": "f53adecc-2a1a-4672-905d-792aed92d912"
      },
      "execution_count": 278,
      "outputs": [
        {
          "output_type": "execute_result",
          "data": {
            "text/plain": [
              "1.0"
            ]
          },
          "metadata": {},
          "execution_count": 278
        }
      ]
    },
    {
      "cell_type": "code",
      "source": [
        "data_clean2.bedrooms.mean()"
      ],
      "metadata": {
        "colab": {
          "base_uri": "https://localhost:8080/"
        },
        "id": "lNMdNe-PirEG",
        "outputId": "44a5ae91-7cc8-4706-cec6-92af92b3101e"
      },
      "execution_count": 279,
      "outputs": [
        {
          "output_type": "execute_result",
          "data": {
            "text/plain": [
              "1.2893524132912928"
            ]
          },
          "metadata": {},
          "execution_count": 279
        }
      ]
    },
    {
      "cell_type": "markdown",
      "source": [
        "WNIOSEK: Akceptowalny wpływ czyszczenia danych na paramtery MEAN i MEDIAN"
      ],
      "metadata": {
        "id": "FCWTrd4-iv1D"
      }
    },
    {
      "cell_type": "markdown",
      "source": [
        "**BEDS**\n",
        "\n",
        "\n"
      ],
      "metadata": {
        "id": "FTc-kRnWi3QH"
      }
    },
    {
      "cell_type": "markdown",
      "source": [
        "Zastępowanie wartości brakujący mediana\n",
        "\n"
      ],
      "metadata": {
        "id": "HW96gbNKi_bp"
      }
    },
    {
      "cell_type": "code",
      "source": [
        "data_clean2.beds.median()"
      ],
      "metadata": {
        "colab": {
          "base_uri": "https://localhost:8080/"
        },
        "id": "_nwbZ05nGF76",
        "outputId": "5d591c11-ae7e-4412-e2c0-15a1f8d98aaa"
      },
      "execution_count": 280,
      "outputs": [
        {
          "output_type": "execute_result",
          "data": {
            "text/plain": [
              "1.0"
            ]
          },
          "metadata": {},
          "execution_count": 280
        }
      ]
    },
    {
      "cell_type": "code",
      "source": [
        "data_clean2.beds.mean()"
      ],
      "metadata": {
        "colab": {
          "base_uri": "https://localhost:8080/"
        },
        "id": "iKMcK5aVjFwO",
        "outputId": "3e243b5a-3398-4067-e492-9344dfbaba6b"
      },
      "execution_count": 281,
      "outputs": [
        {
          "output_type": "execute_result",
          "data": {
            "text/plain": [
              "1.9043793728945322"
            ]
          },
          "metadata": {},
          "execution_count": 281
        }
      ]
    },
    {
      "cell_type": "code",
      "source": [
        "data_clean2.beds.fillna(data_clean2.beds.median(), inplace=True)"
      ],
      "metadata": {
        "id": "D6eSyuyIGKGG"
      },
      "execution_count": 282,
      "outputs": []
    },
    {
      "cell_type": "code",
      "source": [
        "data_clean2.beds.median()"
      ],
      "metadata": {
        "colab": {
          "base_uri": "https://localhost:8080/"
        },
        "id": "UD3EaqMwGM74",
        "outputId": "c98b8e4c-bd17-4128-889c-21df3febf0b4"
      },
      "execution_count": 283,
      "outputs": [
        {
          "output_type": "execute_result",
          "data": {
            "text/plain": [
              "1.0"
            ]
          },
          "metadata": {},
          "execution_count": 283
        }
      ]
    },
    {
      "cell_type": "code",
      "source": [
        "data_clean2.beds.mean()"
      ],
      "metadata": {
        "colab": {
          "base_uri": "https://localhost:8080/"
        },
        "id": "ku7cshckjH_g",
        "outputId": "a64db273-98b2-4639-ce47-b19bdc4d4a24"
      },
      "execution_count": 284,
      "outputs": [
        {
          "output_type": "execute_result",
          "data": {
            "text/plain": [
              "1.846471016250303"
            ]
          },
          "metadata": {},
          "execution_count": 284
        }
      ]
    },
    {
      "cell_type": "markdown",
      "source": [
        "WNIOSEK: Akceptowalny wpływ czyszczenia danych na paramtery MEAN i MEDIAN"
      ],
      "metadata": {
        "id": "C7dpxYccjLEn"
      }
    },
    {
      "cell_type": "markdown",
      "source": [
        "**REVIEW RATING**"
      ],
      "metadata": {
        "id": "wR9JOGiljb5v"
      }
    },
    {
      "cell_type": "markdown",
      "source": [
        "Zastępowanie wartości brakujący mediana"
      ],
      "metadata": {
        "id": "VzQlff4Tjaz_"
      }
    },
    {
      "cell_type": "code",
      "source": [
        "data_clean2.review_scores_rating.median()"
      ],
      "metadata": {
        "colab": {
          "base_uri": "https://localhost:8080/"
        },
        "id": "szqGDo8uGTD2",
        "outputId": "513505d0-1595-4ed4-f3f6-39ead02fe75b"
      },
      "execution_count": 285,
      "outputs": [
        {
          "output_type": "execute_result",
          "data": {
            "text/plain": [
              "4.75"
            ]
          },
          "metadata": {},
          "execution_count": 285
        }
      ]
    },
    {
      "cell_type": "code",
      "source": [
        "data_clean2.review_scores_rating.mean()"
      ],
      "metadata": {
        "colab": {
          "base_uri": "https://localhost:8080/"
        },
        "id": "hxwJsfAyjgOg",
        "outputId": "df58cd3b-6471-4743-cd72-5cd803ce5c40"
      },
      "execution_count": 286,
      "outputs": [
        {
          "output_type": "execute_result",
          "data": {
            "text/plain": [
              "4.4702729636048515"
            ]
          },
          "metadata": {},
          "execution_count": 286
        }
      ]
    },
    {
      "cell_type": "code",
      "source": [
        "data_clean2.review_scores_rating.fillna(data_clean2.review_scores_rating.median(), inplace=True)"
      ],
      "metadata": {
        "id": "KqAhegyrGWlf"
      },
      "execution_count": 287,
      "outputs": []
    },
    {
      "cell_type": "code",
      "source": [
        "data_clean2.review_scores_rating.median()"
      ],
      "metadata": {
        "colab": {
          "base_uri": "https://localhost:8080/"
        },
        "id": "JOL697TPGZMO",
        "outputId": "e6d24159-d83a-491e-eb29-c79e74861576"
      },
      "execution_count": 288,
      "outputs": [
        {
          "output_type": "execute_result",
          "data": {
            "text/plain": [
              "4.75"
            ]
          },
          "metadata": {},
          "execution_count": 288
        }
      ]
    },
    {
      "cell_type": "code",
      "source": [
        "data_clean2.review_scores_rating.mean()"
      ],
      "metadata": {
        "colab": {
          "base_uri": "https://localhost:8080/"
        },
        "id": "3tT31oKnjmJ6",
        "outputId": "257ff0fe-cdce-47e9-ae53-4f328bbe7efa"
      },
      "execution_count": 289,
      "outputs": [
        {
          "output_type": "execute_result",
          "data": {
            "text/plain": [
              "4.59341256366723"
            ]
          },
          "metadata": {},
          "execution_count": 289
        }
      ]
    },
    {
      "cell_type": "markdown",
      "source": [
        "WNIOSEK: Akceptowalny wpływ czyszczenia danych na paramtery MEAN i MEDIAN"
      ],
      "metadata": {
        "id": "tXPirOKjjox-"
      }
    },
    {
      "cell_type": "markdown",
      "source": [
        "**Podsumowanie brakujących danych po procesie czyszczenia:**"
      ],
      "metadata": {
        "id": "KkmBmmE_jtpm"
      }
    },
    {
      "cell_type": "code",
      "source": [
        "data_clean2.isnull().sum()"
      ],
      "metadata": {
        "colab": {
          "base_uri": "https://localhost:8080/"
        },
        "id": "7O2H0xDDGbdW",
        "outputId": "35925a5a-8bbf-4a75-842a-6071225ab12b"
      },
      "execution_count": 290,
      "outputs": [
        {
          "output_type": "execute_result",
          "data": {
            "text/plain": [
              "host_is_superhost       0\n",
              "neighbourhood           0\n",
              "latitude                0\n",
              "longitude               0\n",
              "room_type               0\n",
              "accommodates            0\n",
              "bathrooms               0\n",
              "bedrooms                0\n",
              "beds                    0\n",
              "price                   0\n",
              "review_scores_rating    0\n",
              "dtype: int64"
            ]
          },
          "metadata": {},
          "execution_count": 290
        }
      ]
    },
    {
      "cell_type": "markdown",
      "source": [
        "**PRICE**"
      ],
      "metadata": {
        "id": "ywYvJ0x0j3bS"
      }
    },
    {
      "cell_type": "code",
      "source": [
        "data_clean2.price.describe()"
      ],
      "metadata": {
        "colab": {
          "base_uri": "https://localhost:8080/"
        },
        "id": "KNpZj3fjHZw_",
        "outputId": "bf9671db-a89b-4a33-9d83-7cfe1e507acc"
      },
      "execution_count": 291,
      "outputs": [
        {
          "output_type": "execute_result",
          "data": {
            "text/plain": [
              "count     4123.000000\n",
              "mean       182.207858\n",
              "std        383.103670\n",
              "min          0.000000\n",
              "25%         68.000000\n",
              "50%        119.000000\n",
              "75%        189.000000\n",
              "max      10286.000000\n",
              "Name: price, dtype: float64"
            ]
          },
          "metadata": {},
          "execution_count": 291
        }
      ]
    },
    {
      "cell_type": "code",
      "source": [
        "print(\"99.5% cen jest mniejsza niz {0: .2f}\".format(np.percentile(data_clean2.price, 99.5)))\n",
        "data_clean2 = data_clean2[(data_clean2.price <= np.percentile(data_clean2.price, 99.5)) & (data_clean2.price > 0)]"
      ],
      "metadata": {
        "colab": {
          "base_uri": "https://localhost:8080/"
        },
        "id": "vur-V5WCKLfq",
        "outputId": "53a769b2-d37d-44f8-92d6-c38f8f81d072"
      },
      "execution_count": 292,
      "outputs": [
        {
          "output_type": "stream",
          "name": "stdout",
          "text": [
            "99.5% cen jest mniejsza niz  1899.96\n"
          ]
        }
      ]
    },
    {
      "cell_type": "code",
      "source": [
        "data_clean2.price.describe()"
      ],
      "metadata": {
        "colab": {
          "base_uri": "https://localhost:8080/"
        },
        "id": "DtbcE7niKdqG",
        "outputId": "4a314311-1d08-4c2a-fbc2-01c13116f03e"
      },
      "execution_count": 293,
      "outputs": [
        {
          "output_type": "execute_result",
          "data": {
            "text/plain": [
              "count    4101.000000\n",
              "mean      160.509876\n",
              "std       162.579850\n",
              "min        13.000000\n",
              "25%        68.000000\n",
              "50%       118.000000\n",
              "75%       188.000000\n",
              "max      1836.000000\n",
              "Name: price, dtype: float64"
            ]
          },
          "metadata": {},
          "execution_count": 293
        }
      ]
    },
    {
      "cell_type": "markdown",
      "source": [
        "WNIOSEK: Redukcja danych do 99.5 perecentyla pozwoliła usunięcie odstających danych"
      ],
      "metadata": {
        "id": "hoE2oqxQj5qn"
      }
    },
    {
      "cell_type": "markdown",
      "source": [
        "**BEDS**"
      ],
      "metadata": {
        "id": "BpRI76C-kb5A"
      }
    },
    {
      "cell_type": "code",
      "source": [
        "data_clean2.beds.describe()"
      ],
      "metadata": {
        "colab": {
          "base_uri": "https://localhost:8080/"
        },
        "id": "GTbPiRADKtOn",
        "outputId": "f6cec73f-9895-437d-a72c-50dc1368f5cd"
      },
      "execution_count": 294,
      "outputs": [
        {
          "output_type": "execute_result",
          "data": {
            "text/plain": [
              "count    4101.000000\n",
              "mean        1.840771\n",
              "std         2.431452\n",
              "min         1.000000\n",
              "25%         1.000000\n",
              "50%         1.000000\n",
              "75%         2.000000\n",
              "max        58.000000\n",
              "Name: beds, dtype: float64"
            ]
          },
          "metadata": {},
          "execution_count": 294
        }
      ]
    },
    {
      "cell_type": "code",
      "source": [
        "print(\"99.5% ilości łóżek jest mniejsza niz {0: .2f}\".format(np.percentile(data_clean2.beds, 99.5)))\n",
        "data_clean2 = data_clean2[(data_clean2.beds <= np.percentile(data_clean2.beds, 99.5)) & (data_clean2.beds > 0)]"
      ],
      "metadata": {
        "colab": {
          "base_uri": "https://localhost:8080/"
        },
        "id": "wA0VNwgtKxyv",
        "outputId": "b56290ea-7e3e-428f-898a-dbc12dc199df"
      },
      "execution_count": 295,
      "outputs": [
        {
          "output_type": "stream",
          "name": "stdout",
          "text": [
            "99.5% ilości łóżek jest mniejsza niz  16.00\n"
          ]
        }
      ]
    },
    {
      "cell_type": "markdown",
      "source": [
        "WNIOSEK: Redukcja danych do 99.5 perecentyla pozwoliła usunięcie odstających danych"
      ],
      "metadata": {
        "id": "KkwSIz0rkfMx"
      }
    },
    {
      "cell_type": "markdown",
      "source": [
        "**BATHROOMS**"
      ],
      "metadata": {
        "id": "NTMkJtxdkq_g"
      }
    },
    {
      "cell_type": "code",
      "source": [
        "data_clean2.bathrooms.describe()"
      ],
      "metadata": {
        "colab": {
          "base_uri": "https://localhost:8080/"
        },
        "id": "DTDSeeOoLHnn",
        "outputId": "06563efc-596a-4bcc-ad02-436635c82c64"
      },
      "execution_count": 296,
      "outputs": [
        {
          "output_type": "execute_result",
          "data": {
            "text/plain": [
              "count    4090.000000\n",
              "mean        1.517848\n",
              "std         1.275289\n",
              "min         0.000000\n",
              "25%         1.000000\n",
              "50%         1.000000\n",
              "75%         2.000000\n",
              "max        21.000000\n",
              "Name: bathrooms, dtype: float64"
            ]
          },
          "metadata": {},
          "execution_count": 296
        }
      ]
    },
    {
      "cell_type": "code",
      "source": [
        "print(\"99.5% ilości lazienek jest mniejsza niz {0: .2f}\".format(np.percentile(data_clean2.bathrooms, 99.5)))\n",
        "data_clean2 = data_clean2[(data_clean2.bathrooms <= np.percentile(data_clean2.bathrooms, 99.5)) & (data_clean2.bathrooms > 0)]"
      ],
      "metadata": {
        "colab": {
          "base_uri": "https://localhost:8080/"
        },
        "id": "rAGAMJ-PLX8d",
        "outputId": "5f3485dd-4017-44cd-c3cc-1a0878f4cfc1"
      },
      "execution_count": 297,
      "outputs": [
        {
          "output_type": "stream",
          "name": "stdout",
          "text": [
            "99.5% ilości lazienek jest mniejsza niz  8.50\n"
          ]
        }
      ]
    },
    {
      "cell_type": "markdown",
      "source": [
        "WNIOSEK: Redukcja danych do 99.5 perecentyla pozwoliła usunięcie odstających danych"
      ],
      "metadata": {
        "id": "F0am95ylkuc3"
      }
    },
    {
      "cell_type": "markdown",
      "source": [
        " **Podsumowanie rozkładu danych po procesie czyszczenia** "
      ],
      "metadata": {
        "id": "4Kl5s6Tlkwu2"
      }
    },
    {
      "cell_type": "code",
      "source": [
        "data_clean2.hist(bins=50,figsize=(20, 20))"
      ],
      "metadata": {
        "colab": {
          "base_uri": "https://localhost:8080/",
          "height": 1000
        },
        "id": "xa9oG6-sLdrh",
        "outputId": "9f00b6bc-7b5c-432d-b2e5-7ca8bc4347c1"
      },
      "execution_count": 298,
      "outputs": [
        {
          "output_type": "execute_result",
          "data": {
            "text/plain": [
              "array([[<matplotlib.axes._subplots.AxesSubplot object at 0x7fe927b15cd0>,\n",
              "        <matplotlib.axes._subplots.AxesSubplot object at 0x7fe927acc910>,\n",
              "        <matplotlib.axes._subplots.AxesSubplot object at 0x7fe927a5dc90>],\n",
              "       [<matplotlib.axes._subplots.AxesSubplot object at 0x7fe927a75110>,\n",
              "        <matplotlib.axes._subplots.AxesSubplot object at 0x7fe927a20550>,\n",
              "        <matplotlib.axes._subplots.AxesSubplot object at 0x7fe927a56a50>],\n",
              "       [<matplotlib.axes._subplots.AxesSubplot object at 0x7fe927a0efd0>,\n",
              "        <matplotlib.axes._subplots.AxesSubplot object at 0x7fe9279cf450>,\n",
              "        <matplotlib.axes._subplots.AxesSubplot object at 0x7fe9279cf490>],\n",
              "       [<matplotlib.axes._subplots.AxesSubplot object at 0x7fe9279859d0>,\n",
              "        <matplotlib.axes._subplots.AxesSubplot object at 0x7fe9278fe310>,\n",
              "        <matplotlib.axes._subplots.AxesSubplot object at 0x7fe9278b4790>]],\n",
              "      dtype=object)"
            ]
          },
          "metadata": {},
          "execution_count": 298
        },
        {
          "output_type": "display_data",
          "data": {
            "image/png": "[encoded data removed]",
            "text/plain": [
              "<Figure size 1440x1440 with 12 Axes>"
            ]
          },
          "metadata": {
            "needs_background": "light"
          }
        }
      ]
    },
    {
      "cell_type": "code",
      "source": [
        "len(data_clean) - len(data_clean2)"
      ],
      "metadata": {
        "colab": {
          "base_uri": "https://localhost:8080/"
        },
        "id": "BVie4ncflnmQ",
        "outputId": "7f13fb38-3df4-4168-aa17-4f783c700a9b"
      },
      "execution_count": 306,
      "outputs": [
        {
          "output_type": "execute_result",
          "data": {
            "text/plain": [
              "99"
            ]
          },
          "metadata": {},
          "execution_count": 306
        }
      ]
    },
    {
      "cell_type": "markdown",
      "source": [
        "WNIOSEK: Czyszczenie danych z wartości odstających spowodowała usunięcie 99 wierszy ze zbioru"
      ],
      "metadata": {
        "id": "o-2FzBIWl8b-"
      }
    },
    {
      "cell_type": "markdown",
      "source": [
        "---\n",
        "# Zadanie 9."
      ],
      "metadata": {
        "id": "Eyvl3R2RMDnI"
      }
    },
    {
      "cell_type": "markdown",
      "source": [
        "Analiza korelacji danych:"
      ],
      "metadata": {
        "id": "2V5t-s_tmM0h"
      }
    },
    {
      "cell_type": "code",
      "source": [
        "# macierz korelacji wg. współczynnika Pearsona\n",
        "corr_matrix=data_clean2.corr()"
      ],
      "metadata": {
        "id": "ugWhxsO-NAfo"
      },
      "execution_count": 299,
      "outputs": []
    },
    {
      "cell_type": "code",
      "source": [
        "corr_matrix.price.sort_values(ascending=False)"
      ],
      "metadata": {
        "colab": {
          "base_uri": "https://localhost:8080/"
        },
        "id": "lUBNzcT9NN4H",
        "outputId": "27476731-435d-4b7e-b236-86867c3bf666"
      },
      "execution_count": 300,
      "outputs": [
        {
          "output_type": "execute_result",
          "data": {
            "text/plain": [
              "price                   1.000000\n",
              "bedrooms                0.380069\n",
              "accommodates            0.279468\n",
              "room_type               0.159493\n",
              "beds                    0.133164\n",
              "review_scores_rating    0.065906\n",
              "bathrooms               0.026462\n",
              "longitude              -0.073047\n",
              "neighbourhood          -0.078796\n",
              "host_is_superhost      -0.090808\n",
              "latitude               -0.137805\n",
              "Name: price, dtype: float64"
            ]
          },
          "metadata": {},
          "execution_count": 300
        }
      ]
    },
    {
      "cell_type": "code",
      "source": [
        "# wybor zmiennych ze wpłczynnikami korelacji > .10\n",
        "pd.plotting.scatter_matrix(data_clean2[[\"price\",\"bedrooms\",\"accommodates\",\"beds\",\"latitude\"]], figsize=(20, 20))"
      ],
      "metadata": {
        "colab": {
          "base_uri": "https://localhost:8080/",
          "height": 1000
        },
        "id": "wi5h06IEMOU_",
        "outputId": "298afc81-0357-440c-97d6-ee7307c1664e"
      },
      "execution_count": 301,
      "outputs": [
        {
          "output_type": "execute_result",
          "data": {
            "text/plain": [
              "array([[<matplotlib.axes._subplots.AxesSubplot object at 0x7fe927096c90>,\n",
              "        <matplotlib.axes._subplots.AxesSubplot object at 0x7fe927014990>,\n",
              "        <matplotlib.axes._subplots.AxesSubplot object at 0x7fe926f71490>,\n",
              "        <matplotlib.axes._subplots.AxesSubplot object at 0x7fe926f85990>,\n",
              "        <matplotlib.axes._subplots.AxesSubplot object at 0x7fe926f26e90>],\n",
              "       [<matplotlib.axes._subplots.AxesSubplot object at 0x7fe926eea3d0>,\n",
              "        <matplotlib.axes._subplots.AxesSubplot object at 0x7fe926e9d950>,\n",
              "        <matplotlib.axes._subplots.AxesSubplot object at 0x7fe926ed2d90>,\n",
              "        <matplotlib.axes._subplots.AxesSubplot object at 0x7fe926ed2dd0>,\n",
              "        <matplotlib.axes._subplots.AxesSubplot object at 0x7fe926e94410>],\n",
              "       [<matplotlib.axes._subplots.AxesSubplot object at 0x7fe926e02b10>,\n",
              "        <matplotlib.axes._subplots.AxesSubplot object at 0x7fe926db7fd0>,\n",
              "        <matplotlib.axes._subplots.AxesSubplot object at 0x7fe926d78550>,\n",
              "        <matplotlib.axes._subplots.AxesSubplot object at 0x7fe926d2fa50>,\n",
              "        <matplotlib.axes._subplots.AxesSubplot object at 0x7fe926ce6f50>],\n",
              "       [<matplotlib.axes._subplots.AxesSubplot object at 0x7fe926ca7490>,\n",
              "        <matplotlib.axes._subplots.AxesSubplot object at 0x7fe926c5d990>,\n",
              "        <matplotlib.axes._subplots.AxesSubplot object at 0x7fe926c95e90>,\n",
              "        <matplotlib.axes._subplots.AxesSubplot object at 0x7fe926c573d0>,\n",
              "        <matplotlib.axes._subplots.AxesSubplot object at 0x7fe926c0a8d0>],\n",
              "       [<matplotlib.axes._subplots.AxesSubplot object at 0x7fe926bc1dd0>,\n",
              "        <matplotlib.axes._subplots.AxesSubplot object at 0x7fe926b84310>,\n",
              "        <matplotlib.axes._subplots.AxesSubplot object at 0x7fe926b39810>,\n",
              "        <matplotlib.axes._subplots.AxesSubplot object at 0x7fe926aedd10>,\n",
              "        <matplotlib.axes._subplots.AxesSubplot object at 0x7fe926ab2250>]],\n",
              "      dtype=object)"
            ]
          },
          "metadata": {},
          "execution_count": 301
        },
        {
          "output_type": "display_data",
          "data": {
            "image/png": "[encoded data removed]",
            "text/plain": [
              "<Figure size 1440x1440 with 25 Axes>"
            ]
          },
          "metadata": {
            "needs_background": "light"
          }
        }
      ]
    },
    {
      "cell_type": "markdown",
      "source": [
        "WNIOSKI:\n",
        "Analiza danych umożliwiła zaoberwowanie kreleacji między paramterami w zbiorze co może posłużyć do dalszych analiz i predykcji wartości.\n",
        "Np. \n",
        "1. liczba gości (accomodates) i łóżek (beds) pokazuje, że najwyższe ceny najmu wystepują dla konfiguracji z wysza liczba gości i łóżek\n",
        "2. Paramter wysokości geograficznej (latitude) wykazuje ceny najmu wyższe dla wartości ~1.3\n",
        "3. Liczaba sypialni (bedrooms) pokazuję  że najwyższe ceny najmu wystepują dla konfiguracją z niższa liczbą pokoji (1-3)"
      ],
      "metadata": {
        "id": "Ay9WMxHtmgZm"
      }
    }
  ]
}